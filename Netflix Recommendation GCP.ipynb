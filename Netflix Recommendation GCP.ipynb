{
 "cells": [
  {
   "cell_type": "markdown",
   "metadata": {},
   "source": [
    "# Movie Recommendation System"
   ]
  },
  {
   "cell_type": "code",
   "execution_count": 1,
   "metadata": {},
   "outputs": [
    {
     "name": "stdout",
     "output_type": "stream",
     "text": [
      "(26977631, 4)\n"
     ]
    },
    {
     "data": {
      "text/html": [
       "<div>\n",
       "<style scoped>\n",
       "    .dataframe tbody tr th:only-of-type {\n",
       "        vertical-align: middle;\n",
       "    }\n",
       "\n",
       "    .dataframe tbody tr th {\n",
       "        vertical-align: top;\n",
       "    }\n",
       "\n",
       "    .dataframe thead th {\n",
       "        text-align: right;\n",
       "    }\n",
       "</style>\n",
       "<table border=\"1\" class=\"dataframe\">\n",
       "  <thead>\n",
       "    <tr style=\"text-align: right;\">\n",
       "      <th></th>\n",
       "      <th>movie</th>\n",
       "      <th>user</th>\n",
       "      <th>rating</th>\n",
       "      <th>date</th>\n",
       "    </tr>\n",
       "  </thead>\n",
       "  <tbody>\n",
       "    <tr>\n",
       "      <th>0</th>\n",
       "      <td>1</td>\n",
       "      <td>1488844</td>\n",
       "      <td>3</td>\n",
       "      <td>2005-09-06</td>\n",
       "    </tr>\n",
       "    <tr>\n",
       "      <th>1</th>\n",
       "      <td>1</td>\n",
       "      <td>822109</td>\n",
       "      <td>5</td>\n",
       "      <td>2005-05-13</td>\n",
       "    </tr>\n",
       "    <tr>\n",
       "      <th>2</th>\n",
       "      <td>1</td>\n",
       "      <td>885013</td>\n",
       "      <td>4</td>\n",
       "      <td>2005-10-19</td>\n",
       "    </tr>\n",
       "    <tr>\n",
       "      <th>3</th>\n",
       "      <td>1</td>\n",
       "      <td>30878</td>\n",
       "      <td>4</td>\n",
       "      <td>2005-12-26</td>\n",
       "    </tr>\n",
       "    <tr>\n",
       "      <th>4</th>\n",
       "      <td>1</td>\n",
       "      <td>823519</td>\n",
       "      <td>3</td>\n",
       "      <td>2004-05-03</td>\n",
       "    </tr>\n",
       "    <tr>\n",
       "      <th>5</th>\n",
       "      <td>1</td>\n",
       "      <td>893988</td>\n",
       "      <td>3</td>\n",
       "      <td>2005-11-17</td>\n",
       "    </tr>\n",
       "    <tr>\n",
       "      <th>6</th>\n",
       "      <td>1</td>\n",
       "      <td>124105</td>\n",
       "      <td>4</td>\n",
       "      <td>2004-08-05</td>\n",
       "    </tr>\n",
       "    <tr>\n",
       "      <th>7</th>\n",
       "      <td>1</td>\n",
       "      <td>1248029</td>\n",
       "      <td>3</td>\n",
       "      <td>2004-04-22</td>\n",
       "    </tr>\n",
       "    <tr>\n",
       "      <th>8</th>\n",
       "      <td>1</td>\n",
       "      <td>1842128</td>\n",
       "      <td>4</td>\n",
       "      <td>2004-05-09</td>\n",
       "    </tr>\n",
       "    <tr>\n",
       "      <th>9</th>\n",
       "      <td>1</td>\n",
       "      <td>2238063</td>\n",
       "      <td>3</td>\n",
       "      <td>2005-05-11</td>\n",
       "    </tr>\n",
       "  </tbody>\n",
       "</table>\n",
       "</div>"
      ],
      "text/plain": [
       "   movie     user  rating        date\n",
       "0      1  1488844       3  2005-09-06\n",
       "1      1   822109       5  2005-05-13\n",
       "2      1   885013       4  2005-10-19\n",
       "3      1    30878       4  2005-12-26\n",
       "4      1   823519       3  2004-05-03\n",
       "5      1   893988       3  2005-11-17\n",
       "6      1   124105       4  2004-08-05\n",
       "7      1  1248029       3  2004-04-22\n",
       "8      1  1842128       4  2004-05-09\n",
       "9      1  2238063       3  2005-05-11"
      ]
     },
     "execution_count": 1,
     "metadata": {},
     "output_type": "execute_result"
    }
   ],
   "source": [
    "import pandas as pd\n",
    "\n",
    "data = pd.read_csv(\"gs://netflix1/netflix1.csv\", sep=',', names=['movie', 'user','rating','date'] )\n",
    "\n",
    "print( data.shape )\n",
    "\n",
    "data.head(10)"
   ]
  },
  {
   "cell_type": "code",
   "execution_count": 2,
   "metadata": {},
   "outputs": [
    {
     "data": {
      "text/html": [
       "<div>\n",
       "<style>\n",
       "    .dataframe thead tr:only-child th {\n",
       "        text-align: right;\n",
       "    }\n",
       "\n",
       "    .dataframe thead th {\n",
       "        text-align: left;\n",
       "    }\n",
       "\n",
       "    .dataframe tbody tr th {\n",
       "        vertical-align: top;\n",
       "    }\n",
       "</style>\n",
       "<table border=\"1\" class=\"dataframe\">\n",
       "  <thead>\n",
       "    <tr style=\"text-align: right;\">\n",
       "      <th></th>\n",
       "      <th>movie</th>\n",
       "      <th>user</th>\n",
       "      <th>rating</th>\n",
       "      <th>date</th>\n",
       "    </tr>\n",
       "  </thead>\n",
       "  <tbody>\n",
       "    <tr>\n",
       "      <th>24047887</th>\n",
       "      <td>8651</td>\n",
       "      <td>510180</td>\n",
       "      <td>2</td>\n",
       "      <td>1999-11-11</td>\n",
       "    </tr>\n",
       "    <tr>\n",
       "      <th>25919385</th>\n",
       "      <td>9003</td>\n",
       "      <td>510180</td>\n",
       "      <td>3</td>\n",
       "      <td>1999-11-11</td>\n",
       "    </tr>\n",
       "    <tr>\n",
       "      <th>6830242</th>\n",
       "      <td>5625</td>\n",
       "      <td>510180</td>\n",
       "      <td>4</td>\n",
       "      <td>1999-11-11</td>\n",
       "    </tr>\n",
       "    <tr>\n",
       "      <th>22463165</th>\n",
       "      <td>8357</td>\n",
       "      <td>510180</td>\n",
       "      <td>4</td>\n",
       "      <td>1999-11-11</td>\n",
       "    </tr>\n",
       "    <tr>\n",
       "      <th>6465153</th>\n",
       "      <td>5571</td>\n",
       "      <td>510180</td>\n",
       "      <td>4</td>\n",
       "      <td>1999-11-11</td>\n",
       "    </tr>\n",
       "  </tbody>\n",
       "</table>\n",
       "</div>"
      ],
      "text/plain": [
       "          movie    user  rating       date\n",
       "24047887   8651  510180       2 1999-11-11\n",
       "25919385   9003  510180       3 1999-11-11\n",
       "6830242    5625  510180       4 1999-11-11\n",
       "22463165   8357  510180       4 1999-11-11\n",
       "6465153    5571  510180       4 1999-11-11"
      ]
     },
     "execution_count": 2,
     "metadata": {},
     "output_type": "execute_result"
    }
   ],
   "source": [
    "data.date = pd.to_datetime( data.date )\n",
    "\n",
    "data.sort_values( by='date', inplace=True )\n",
    "\n",
    "data.head()"
   ]
  },
  {
   "cell_type": "markdown",
   "metadata": {},
   "source": [
    "### Checking for Null and duplicate values"
   ]
  },
  {
   "cell_type": "code",
   "execution_count": 3,
   "metadata": {},
   "outputs": [
    {
     "data": {
      "text/plain": [
       "0"
      ]
     },
     "execution_count": 3,
     "metadata": {},
     "output_type": "execute_result"
    }
   ],
   "source": [
    "sum( data.isnull().any() )"
   ]
  },
  {
   "cell_type": "code",
   "execution_count": 4,
   "metadata": {},
   "outputs": [
    {
     "data": {
      "text/plain": [
       "0"
      ]
     },
     "execution_count": 4,
     "metadata": {},
     "output_type": "execute_result"
    }
   ],
   "source": [
    "# DataFrame.duplicated( subset=None, keep='first' )\n",
    "\n",
    "sum( data.duplicated( ['movie','user','rating'] ) )\n",
    "\n",
    "# duplicated : Return boolean Series denoting duplicate rows, optionally only considering certain columns.\n",
    "# subset : column label or sequence of labels, optional\n",
    "# Only consider certain columns for identifying duplicates, by default use all of the columns\n",
    "\n",
    "# keep : {‘first’, ‘last’, False}, default ‘first’\n",
    "# first : Mark duplicates as True except for the first occurrence.\n",
    "# last : Mark duplicates as True except for the last occurrence.\n",
    "# False : Mark all duplicates as True."
   ]
  },
  {
   "cell_type": "code",
   "execution_count": 5,
   "metadata": {},
   "outputs": [
    {
     "name": "stdout",
     "output_type": "stream",
     "text": [
      "Total no of Ratings :  26977631\n",
      "Total No of Users   :  474062\n",
      "Total No of Movies  :  4712\n"
     ]
    }
   ],
   "source": [
    "import numpy as np\n",
    "\n",
    "print(\"Total no of Ratings : \", data.shape[0])\n",
    "print(\"Total No of Users   : \", len( np.unique(data.user) ))\n",
    "print(\"Total No of Movies  : \", len( np.unique(data.movie) ))"
   ]
  },
  {
   "cell_type": "markdown",
   "metadata": {},
   "source": [
    "### Splitting data into Test And Train"
   ]
  },
  {
   "cell_type": "code",
   "execution_count": 6,
   "metadata": {},
   "outputs": [
    {
     "data": {
      "text/plain": [
       "movie                    8651\n",
       "user                   510180\n",
       "rating                      2\n",
       "date      1999-11-11 00:00:00\n",
       "Name: 24047887, dtype: object"
      ]
     },
     "execution_count": 6,
     "metadata": {},
     "output_type": "execute_result"
    }
   ],
   "source": [
    "data.iloc[0] \n",
    "\n",
    "# Purely integer-location based indexing for selection by position.\n",
    "# .iloc[] is primarily integer position based (from 0 to length-1 of the axis), but may also be used with a boolean array."
   ]
  },
  {
   "cell_type": "code",
   "execution_count": 5,
   "metadata": {
    "collapsed": true
   },
   "outputs": [],
   "source": [
    "train = data.iloc[ : int( data.shape[0]*0.80 ) ]\n",
    "\n",
    "test = data.iloc[ int( data.shape[0]*0.80 ) :  ]"
   ]
  },
  {
   "cell_type": "code",
   "execution_count": 9,
   "metadata": {},
   "outputs": [
    {
     "name": "stdout",
     "output_type": "stream",
     "text": [
      "(21582104, 4)\n",
      "(5395527, 4)\n"
     ]
    }
   ],
   "source": [
    "print( train.shape )\n",
    "print( test.shape )"
   ]
  },
  {
   "cell_type": "code",
   "execution_count": 9,
   "metadata": {},
   "outputs": [
    {
     "name": "stdout",
     "output_type": "stream",
     "text": [
      "Total no of Ratings in Train data :  21582104\n",
      "Total No of Users in Train data   :  393931\n",
      "Total No of Movies in Train data  :  4606\n",
      "\n",
      "Total no of Ratings in Test data :  5395527\n",
      "Total No of Users in Test data   :  302567\n",
      "Total No of Movies in Test data  :  4707\n"
     ]
    }
   ],
   "source": [
    "import numpy as np\n",
    "\n",
    "print(\"Total no of Ratings in Train data : \", train.shape[0])\n",
    "print(\"Total No of Users in Train data   : \", len( np.unique(train.user) ))\n",
    "print(\"Total No of Movies in Train data  : \", len( np.unique(train.movie) ))\n",
    "\n",
    "print(\"\\nTotal no of Ratings in Test data : \", test.shape[0])\n",
    "print(\"Total No of Users in Test data   : \", len( np.unique(test.user) ))\n",
    "print(\"Total No of Movies in Test data  : \", len( np.unique(test.movie) ))"
   ]
  },
  {
   "cell_type": "code",
   "execution_count": 10,
   "metadata": {},
   "outputs": [
    {
     "data": {
      "text/plain": [
       "4    7306096\n",
       "3    6335913\n",
       "5    4643094\n",
       "2    2281822\n",
       "1    1015179\n",
       "Name: rating, dtype: int64"
      ]
     },
     "execution_count": 10,
     "metadata": {},
     "output_type": "execute_result"
    }
   ],
   "source": [
    "train.rating.value_counts()"
   ]
  },
  {
   "cell_type": "markdown",
   "metadata": {},
   "source": [
    "## Data Analysis"
   ]
  },
  {
   "cell_type": "code",
   "execution_count": 12,
   "metadata": {},
   "outputs": [
    {
     "data": {
      "image/png": "[encoded data removed]",
      "text/plain": [
       "<Figure size 1080x432 with 1 Axes>"
      ]
     },
     "metadata": {},
     "output_type": "display_data"
    }
   ],
   "source": [
    "import matplotlib.pyplot as plt\n",
    "import seaborn as sns\n",
    "\n",
    "sns.set_style('whitegrid')\n",
    "\n",
    "fig, ax = plt.subplots( figsize = (15,6) )\n",
    "sns.countplot( train.rating )\n",
    "\n",
    "# Converting values like 2,500,000 to 2.5 M to readability\n",
    "y = [ str(item/10**6) + \" M\" for item in ax.get_yticks() ]\n",
    "ax.set_yticklabels( y )\n",
    "\n",
    "ax.set_ylabel('No. of Ratings (in millions)',size=14)\n",
    "ax.set_xlabel('Ratings',size=14)\n",
    "plt.title('Distribution of ratings over Train data',size=15)\n",
    "\n",
    "plt.show()"
   ]
  },
  {
   "cell_type": "code",
   "execution_count": 13,
   "metadata": {},
   "outputs": [
    {
     "name": "stdout",
     "output_type": "stream",
     "text": [
      "DatetimeIndexResampler [freq=<MonthEnd>, axis=0, closed=right, label=right, convention=start, base=0]\n",
      "<pandas.core.groupby.generic.SeriesGroupBy object at 0x7f532bdaf780>\n",
      "date\n",
      "1999-11-30        7\n",
      "1999-12-31      650\n",
      "2000-01-31    26144\n",
      "2000-02-29    27589\n",
      "2000-03-31    24753\n",
      "2000-04-30    18220\n",
      "2000-05-31    16079\n",
      "2000-06-30    14468\n",
      "2000-07-31    16952\n",
      "2000-08-31    20629\n",
      "Freq: M, Name: rating, dtype: int64\n"
     ]
    }
   ],
   "source": [
    "print( train.resample('m', on='date') )\n",
    "\n",
    "print( train.resample('m', on='date')['rating'] )\n",
    "\n",
    "print( train.resample('m', on='date')['rating'].count()[:10] )\n",
    "\n",
    "# Resample time-series data. Convenience method for frequency conversion and resampling of time series. \n",
    "# Object must have a datetime-like index (DatetimeIndex, PeriodIndex, or TimedeltaIndex), or pass datetime-like values...\n",
    "# ... to the on or level keyword.\n"
   ]
  },
  {
   "cell_type": "code",
   "execution_count": 14,
   "metadata": {},
   "outputs": [
    {
     "data": {
      "image/png": "[encoded data removed]",
      "text/plain": [
       "<Figure size 1224x360 with 1 Axes>"
      ]
     },
     "metadata": {},
     "output_type": "display_data"
    }
   ],
   "source": [
    "plt.figure( figsize = (17,5) )\n",
    "\n",
    "ax = train.resample('m', on='date')['rating'].count().plot()\n",
    "\n",
    "y = [ str(item/10**6) + \" M\" for item in ax.get_yticks() ]  \n",
    "ax.set_yticklabels( y )\n",
    "\n",
    "ax.set_title('No of ratings per month ', size=15)\n",
    "plt.xlabel('Month', size=14)\n",
    "plt.ylabel('No of ratings', size=14)\n",
    "\n",
    "plt.show()"
   ]
  },
  {
   "cell_type": "code",
   "execution_count": null,
   "metadata": {
    "collapsed": true
   },
   "outputs": [],
   "source": []
  },
  {
   "cell_type": "code",
   "execution_count": 15,
   "metadata": {},
   "outputs": [
    {
     "name": "stdout",
     "output_type": "stream",
     "text": [
      "user\n",
      "510347     1\n",
      "2444947    1\n",
      "Name: rating, dtype: int64\n",
      "user\n",
      "2439493    4165\n",
      "305344     4545\n",
      "Name: rating, dtype: int64\n"
     ]
    }
   ],
   "source": [
    "# Rated Movie per User\n",
    "\n",
    "rateMPU = train.groupby( by='user' )['rating'].count().sort_values()\n",
    "\n",
    "print( rateMPU.head(2) )\n",
    "print( rateMPU.tail(2))"
   ]
  },
  {
   "cell_type": "code",
   "execution_count": 16,
   "metadata": {},
   "outputs": [
    {
     "data": {
      "text/plain": [
       "count    393931.000000\n",
       "mean         54.786508\n",
       "std          79.908893\n",
       "min           1.000000\n",
       "25%           9.000000\n",
       "50%          25.000000\n",
       "75%          68.000000\n",
       "max        4545.000000\n",
       "Name: rating, dtype: float64"
      ]
     },
     "execution_count": 16,
     "metadata": {},
     "output_type": "execute_result"
    }
   ],
   "source": [
    "rateMPU.describe()"
   ]
  },
  {
   "cell_type": "code",
   "execution_count": 17,
   "metadata": {},
   "outputs": [
    {
     "data": {
      "image/png": "[encoded data removed]",
      "text/plain": [
       "<Figure size 1080x360 with 1 Axes>"
      ]
     },
     "metadata": {},
     "output_type": "display_data"
    }
   ],
   "source": [
    "plt.figure( figsize = (15,5) )\n",
    "\n",
    "sns.kdeplot( rateMPU, shade=True )\n",
    "plt.xlabel('No of ratings by user', size=14)\n",
    "plt.title(\"PDF of No of ratings by user\", size=15)\n",
    "\n",
    "plt.show()"
   ]
  },
  {
   "cell_type": "code",
   "execution_count": 18,
   "metadata": {},
   "outputs": [
    {
     "name": "stdout",
     "output_type": "stream",
     "text": [
      "0.00    1\n",
      "0.01    1\n",
      "0.02    1\n",
      "0.03    2\n",
      "0.04    2\n",
      "Name: rating, dtype: int64 \n",
      "\n",
      "0.91     153\n",
      "0.92     163\n",
      "0.93     175\n",
      "0.94     190\n",
      "0.95     207\n",
      "0.96     229\n",
      "0.97     258\n",
      "0.98     298\n",
      "0.99     370\n",
      "1.00    4545\n",
      "Name: rating, dtype: int64\n"
     ]
    }
   ],
   "source": [
    "quant = rateMPU.quantile( np.arange(0,1.01,0.01), interpolation='higher' )\n",
    "\n",
    "\n",
    "print( quant.head(), '\\n' )\n",
    "print( quant.tail(10) )\n",
    "\n",
    "# interpolation : {‘linear’, ‘lower’, ‘higher’, ‘midpoint’, ‘nearest’} \n",
    "# This parameter specifies the interpolation method to use, when the desired quantile lies between two data points i and j\n",
    "# lower: i.      higher: j.       nearest: i or j whichever is nearest.      midpoint: (i + j) / 2.\n",
    "\n",
    "# Ref : https://pandas.pydata.org/pandas-docs/stable/reference/api/pandas.DataFrame.quantile.html"
   ]
  },
  {
   "cell_type": "code",
   "execution_count": 20,
   "metadata": {},
   "outputs": [
    {
     "data": {
      "image/png": "[encoded data removed]",
      "text/plain": [
       "<Figure size 1080x432 with 1 Axes>"
      ]
     },
     "metadata": {},
     "output_type": "display_data"
    }
   ],
   "source": [
    "#plt.figure( figsize = (15,5) )\n",
    "\n",
    "quant.plot(figsize = (15,6) )\n",
    "\n",
    "# Quantiles with 0.25 difference\n",
    "\n",
    "plt.scatter( x=quant.index[::25], y=quant.values[::25], c='m', label = \"Quant with 0.25 interval\")\n",
    "\n",
    "plt.title(\"Quantiles and their Values\", size=15)\n",
    "plt.ylabel('No of ratings by user', size=14)\n",
    "plt.xlabel('Value at the quantile', size=14)\n",
    "\n",
    "plt.legend(loc='best')\n",
    "\n",
    "# Annotate the 25th, 50th, 75th and 100th percentile values....\n",
    "\n",
    "for x, y in zip( quant.index[::25], quant[::25] ):\n",
    "    plt.annotate(s=\"({} , {})\".format(x,y), xy=(x,y), xytext=(x-0.001, y+80) ,fontweight='bold')\n",
    "\n",
    "plt.show()"
   ]
  },
  {
   "cell_type": "code",
   "execution_count": null,
   "metadata": {
    "collapsed": true
   },
   "outputs": [],
   "source": []
  },
  {
   "cell_type": "code",
   "execution_count": 21,
   "metadata": {},
   "outputs": [
    {
     "name": "stdout",
     "output_type": "stream",
     "text": [
      "movie\n",
      "6725    1\n",
      "8323    1\n",
      "Name: rating, dtype: int64 \n",
      "\n",
      "movie\n",
      "4656    112924\n",
      "8644    116290\n",
      "6206    119352\n",
      "6972    123348\n",
      "8782    123753\n",
      "5496    125198\n",
      "7624    126362\n",
      "6037    130019\n",
      "6287    155371\n",
      "5317    179130\n",
      "Name: rating, dtype: int64\n"
     ]
    }
   ],
   "source": [
    "rateM = train.groupby( by='movie' )['rating'].count().sort_values()\n",
    "\n",
    "print( rateM.head(2), '\\n' )\n",
    "print( rateM.tail(10) )"
   ]
  },
  {
   "cell_type": "code",
   "execution_count": 22,
   "metadata": {},
   "outputs": [
    {
     "data": {
      "text/plain": [
       "count      4606.000000\n",
       "mean       4685.650022\n",
       "std       13575.682729\n",
       "min           1.000000\n",
       "25%         143.000000\n",
       "50%         435.000000\n",
       "75%        2345.500000\n",
       "max      179130.000000\n",
       "Name: rating, dtype: float64"
      ]
     },
     "execution_count": 22,
     "metadata": {},
     "output_type": "execute_result"
    }
   ],
   "source": [
    "rateM.describe()"
   ]
  },
  {
   "cell_type": "code",
   "execution_count": 23,
   "metadata": {},
   "outputs": [
    {
     "data": {
      "image/png": "[encoded data removed]",
      "text/plain": [
       "<Figure size 1152x360 with 1 Axes>"
      ]
     },
     "metadata": {},
     "output_type": "display_data"
    }
   ],
   "source": [
    "plt.figure(figsize=(16,5))\n",
    "\n",
    "plt.plot( rateM.values )\n",
    "\n",
    "plt.title('No. of Ratings per Movie', size=15)\n",
    "plt.xlabel('Movie', size=14)\n",
    "plt.ylabel('No of Users who rated a movie', size=14)\n",
    "\n",
    "plt.show()"
   ]
  },
  {
   "cell_type": "code",
   "execution_count": null,
   "metadata": {
    "collapsed": true
   },
   "outputs": [],
   "source": []
  },
  {
   "cell_type": "markdown",
   "metadata": {},
   "source": [
    "## Creating Sparse Matrix"
   ]
  },
  {
   "cell_type": "code",
   "execution_count": 6,
   "metadata": {},
   "outputs": [
    {
     "name": "stdout",
     "output_type": "stream",
     "text": [
      " Original shape     :  (21582104, 4)\n",
      " Shape after sparse :  (2649430, 9211)\n"
     ]
    }
   ],
   "source": [
    "from scipy import sparse\n",
    "from scipy.sparse import csr_matrix\n",
    "\n",
    "trSparse = sparse.csr_matrix(( train.rating.values, (train.user.values, train.movie.values)), )\n",
    "\n",
    "# Here Rating values are the cells, Movie ID is column, User ID is row\n",
    "\n",
    "print(' Original shape     : ', train.shape )\n",
    "print(' Shape after sparse : ', trSparse.shape )\n",
    "\n",
    "# csr_matrix : This can be instantiated in several ways:\n",
    "# One way is -> csr_matrix((data, (row_ind, col_ind)),     [shape=(M, N)])\n",
    "# where data, row_ind and col_ind satisfy the relationship a[row_ind[k], col_ind[k]] = data[k]."
   ]
  },
  {
   "cell_type": "code",
   "execution_count": 7,
   "metadata": {},
   "outputs": [
    {
     "name": "stdout",
     "output_type": "stream",
     "text": [
      " Sparsity of Train Sparse Matrix :  0.0008843711144030339\n"
     ]
    }
   ],
   "source": [
    "spar = trSparse.count_nonzero() / ( trSparse.shape[0] * trSparse.shape[1] )\n",
    "\n",
    "print(' Sparsity of Train Sparse Matrix : ', spar)\n",
    "\n",
    "# The sparsity of a matrix can be quantified with a score,\n",
    "# Which is the number of zero values in the matrix divided by the total number of elements in the matrix"
   ]
  },
  {
   "cell_type": "code",
   "execution_count": 8,
   "metadata": {},
   "outputs": [
    {
     "name": "stdout",
     "output_type": "stream",
     "text": [
      " Original shape     :  (5395527, 4)\n",
      " Shape after sparse :  (2649430, 9211)\n"
     ]
    }
   ],
   "source": [
    "teSparse = sparse.csr_matrix(( test.rating.values, (test.user.values, test.movie.values)), )\n",
    "\n",
    "# Here Rating values are the cells, Movie ID is column, User ID is row\n",
    "\n",
    "print(' Original shape     : ', test.shape )\n",
    "print(' Shape after sparse : ', teSparse.shape )\n"
   ]
  },
  {
   "cell_type": "code",
   "execution_count": 9,
   "metadata": {},
   "outputs": [
    {
     "name": "stdout",
     "output_type": "stream",
     "text": [
      " Sparsity of Test Sparse Matrix :  0.0002210928195778159\n"
     ]
    }
   ],
   "source": [
    "spar = teSparse.count_nonzero() / ( teSparse.shape[0] * teSparse.shape[1] )\n",
    "\n",
    "print(' Sparsity of Test Sparse Matrix : ', spar)"
   ]
  },
  {
   "cell_type": "markdown",
   "metadata": {},
   "source": [
    "## Avg. user and movie ratings"
   ]
  },
  {
   "cell_type": "code",
   "execution_count": 10,
   "metadata": {},
   "outputs": [
    {
     "data": {
      "text/plain": [
       "{'global': 3.5689947560256403}"
      ]
     },
     "execution_count": 10,
     "metadata": {},
     "output_type": "execute_result"
    }
   ],
   "source": [
    "# Finding Global Average of Movie Ratings\n",
    "\n",
    "trainAvg = dict( )\n",
    "\n",
    "gAvg = trSparse.sum() / trSparse.count_nonzero()\n",
    "\n",
    "trainAvg['global'] = gAvg\n",
    "trainAvg"
   ]
  },
  {
   "cell_type": "code",
   "execution_count": 11,
   "metadata": {},
   "outputs": [
    {
     "name": "stdout",
     "output_type": "stream",
     "text": [
      "[[ 0  1  2  3]\n",
      " [ 4  5  6  7]\n",
      " [ 8  9 10 11]] \n",
      "\n",
      "[ 0  1  2  3  4  5  6  7  8  9 10 11] \n",
      "\n",
      "[[12 15 18 21]]\n",
      "[12 15 18 21]\n"
     ]
    }
   ],
   "source": [
    "# Understanding .A1\n",
    "import numpy as np\n",
    "\n",
    "x = np.matrix(np.arange(12).reshape((3,4)))\n",
    "print(x,'\\n')\n",
    "\n",
    "print(x.A1, '\\n')\n",
    "\n",
    "print(x.sum(axis=0))\n",
    "\n",
    "print(x.sum(axis=0).A1)\n",
    "\n",
    "# matrix.A1 : Return self as a flattened ndarray. Equivalent to np.asarray(x).ravel()"
   ]
  },
  {
   "cell_type": "code",
   "execution_count": 12,
   "metadata": {
    "collapsed": true
   },
   "outputs": [],
   "source": [
    "# avg() : returns user avg. in dictionary (key: userID/movieID, value: avg. rating)\n",
    "\n",
    "# matrix : Sparse Matrix\n",
    "# axis: 1 - User axes,  0 - Movie axes\n",
    "\n",
    "def avg( matrix, axis ):\n",
    "        \n",
    "    sumR = matrix.sum(axis=axis).A1  # Sum of ratings\n",
    "    \n",
    "    rated = matrix != 0  \n",
    "    # bool matrix of ratings ( whether a user rated that movie or not )\n",
    "    \n",
    "    nR = rated.sum(axis=axis).A1  # no. of ratings\n",
    "    \n",
    "    r, c = matrix.shape\n",
    "    \n",
    "    # If axis = 1 i,e: users do -> for i in range(r)   else: for i in range(c)\n",
    "    # If no. of rating is NOT 0 then put 'i' as key and Sum of rating divided by no. of rating as value\n",
    "    \n",
    "    avgR = { i : sumR[i] / nR[i]  for i in range(r if axis else c)  if nR[i] != 0 }\n",
    "    # avgR : dictonary of users and their avg. rating\n",
    "    \n",
    "    # return that dictionary of average ratings\n",
    "    return avgR\n",
    "\n",
    "# matrix.A1 : Return self as a flattened ndarray. Equivalent to np.asarray(x).ravel()"
   ]
  },
  {
   "cell_type": "code",
   "execution_count": 13,
   "metadata": {},
   "outputs": [
    {
     "name": "stdout",
     "output_type": "stream",
     "text": [
      "393931\n"
     ]
    },
    {
     "data": {
      "text/plain": [
       "3.9382716049382718"
      ]
     },
     "execution_count": 13,
     "metadata": {},
     "output_type": "execute_result"
    }
   ],
   "source": [
    "# Avg. rating per user\n",
    "\n",
    "trainAvg['user'] = avg( trSparse, 1 )\n",
    "\n",
    "print( len(trainAvg['user']) )\n",
    "\n",
    "trainAvg['user'][7]\n",
    "\n",
    "# axis: 1 - User axes,  0 - Movie axes"
   ]
  },
  {
   "cell_type": "code",
   "execution_count": 14,
   "metadata": {},
   "outputs": [
    {
     "name": "stdout",
     "output_type": "stream",
     "text": [
      "4606\n"
     ]
    },
    {
     "data": {
      "text/plain": [
       "3.888888888888889"
      ]
     },
     "execution_count": 14,
     "metadata": {},
     "output_type": "execute_result"
    }
   ],
   "source": [
    "# Avg. rating per movie\n",
    "\n",
    "trainAvg['movie'] = avg( trSparse, 0 )\n",
    "\n",
    "print( len(trainAvg['movie']) )\n",
    "\n",
    "trainAvg['movie'][8194]"
   ]
  },
  {
   "cell_type": "raw",
   "metadata": {},
   "source": [
    "# This gives error\n",
    "\n",
    "import seaborn as sns\n",
    "import matplotlib.pyplot as plt\n",
    "\n",
    "sns.set_style('whitegrid')\n",
    "x = np.random.randn(200)\n",
    "sns.distplot(x, kde_kws=dict(cumulative=True) )\n",
    "plt.show()"
   ]
  },
  {
   "cell_type": "code",
   "execution_count": 17,
   "metadata": {
    "collapsed": true
   },
   "outputs": [],
   "source": [
    "# Getting the list of avg. user ratings \n",
    "userAvg = [ avg for avg in trainAvg['user'].values() ]\n",
    "\n",
    "# Getting the list of avg. movie ratings\n",
    "movieAvg = [ avg for avg in trainAvg['movie'].values() ]"
   ]
  },
  {
   "cell_type": "code",
   "execution_count": null,
   "metadata": {
    "collapsed": true
   },
   "outputs": [],
   "source": [
    "fig, (ax1, ax2) = plt.subplots(nrows=1, ncols=2, figsize=(18,5))\n",
    "\n",
    "fig.suptitle('Avg. Ratings per User and per Movie', fontsize=15 )\n",
    "\n",
    "ax1.set_title('Avg. User ratings', size=14)\n",
    "\n",
    "sns.distplot( userAvg, ax=ax1, hist=False,  kde_kws=dict(cumulative=True), label='CDF' )\n",
    "sns.distplot( userAvg, ax=ax1, hist=False, label='PDF' )\n",
    "\n",
    "\n",
    "ax2.set_title('Avg. Movie ratings', size=14)\n",
    "\n",
    "sns.distplot( movieAvg, ax=ax2, hist=False, kde_kws=dict(cumulative=True), label='CDF')\n",
    "sns.distplot( movieAvg, ax=ax2, hist=False, label='PDF')\n",
    "\n",
    "plt.show()\n",
    "\n",
    "# {hist, kde, rug, fit}_kws  (dictionaries, optional) : Keyword arguments for underlying plotting functions."
   ]
  },
  {
   "cell_type": "markdown",
   "metadata": {},
   "source": [
    "\n",
    "\n",
    "<img src='pic.jpg'>"
   ]
  },
  {
   "cell_type": "markdown",
   "metadata": {},
   "source": []
  },
  {
   "cell_type": "markdown",
   "metadata": {},
   "source": [
    "### Cold Start Problem\n",
    "\n",
    "Different users subscribe streaming sites like Netflix, Hulu etc at differnt time based on their need and likings.\n",
    "\n",
    "Since we split our dataset based on time (date) there may be some new users ( ones who subscribed later ) in our test dataset.\n",
    "\n",
    "Since the split is Time based we don't have any data for those new users in our Train dataset.\n",
    "\n",
    "Also there may be new movies for which we don't have any user reviews or ratings.\n",
    "\n",
    "This leads to a Cold Start Problem."
   ]
  },
  {
   "cell_type": "code",
   "execution_count": 46,
   "metadata": {},
   "outputs": [
    {
     "name": "stdout",
     "output_type": "stream",
     "text": [
      " Total Users in both Train and Test :  474062\n",
      " No. of Users in Train Dataset      :  393931\n",
      " No. of new Users (not in Train)    :  80131\n",
      "\n",
      " % of new Users :  16.9\n"
     ]
    }
   ],
   "source": [
    "# Cold Start problem with Users\n",
    "\n",
    "users = len( np.unique(data.user) )\n",
    "trUser = len( trainAvg['user'] )\n",
    "\n",
    "newUser = users - trUser\n",
    "\n",
    "print(' Total Users in both Train and Test : ', users)\n",
    "print(' No. of Users in Train Dataset      : ', trUser)\n",
    "print(' No. of new Users (not in Train)    : ', newUser)\n",
    "\n",
    "print('\\n % of new Users : ', np.round( (newUser/users) * 100, 2) )"
   ]
  },
  {
   "cell_type": "code",
   "execution_count": 47,
   "metadata": {},
   "outputs": [
    {
     "name": "stdout",
     "output_type": "stream",
     "text": [
      " Total Movies in both Train and Test :  4712\n",
      " No. of Movies in Train Dataset      :  4606\n",
      " No. of new Movies (not in Train)    :  106\n",
      "\n",
      " % of new Movies :  0.02\n"
     ]
    }
   ],
   "source": [
    "# Cold Start problem with Users\n",
    "\n",
    "movie = len( np.unique(data.movie) )\n",
    "trMovie = len( trainAvg['movie'] )\n",
    "\n",
    "newMovie = movie - trMovie\n",
    "\n",
    "print(' Total Movies in both Train and Test : ', movie)\n",
    "print(' No. of Movies in Train Dataset      : ', trMovie)\n",
    "print(' No. of new Movies (not in Train)    : ', newMovie)\n",
    "\n",
    "print('\\n % of new Movies : ', np.round( (newMovie/users) * 100, 2) )"
   ]
  },
  {
   "cell_type": "markdown",
   "metadata": {},
   "source": [
    "## Similarity Matrix"
   ]
  },
  {
   "cell_type": "markdown",
   "metadata": {},
   "source": [
    "### User-User Similarity\n",
    "<br>\n",
    "Calculating User User Similarity Matrix requires enormous amount of time (even with huge Computing Power) because of number of users are very large.\n",
    "\n",
    "Even if we tried it by reducing dimensions it still takes substantial amount of time ( even days )\n",
    "\n",
    "Also your system could crash or the program could stop with Memory Error.\n"
   ]
  },
  {
   "cell_type": "code",
   "execution_count": 13,
   "metadata": {},
   "outputs": [
    {
     "name": "stdout",
     "output_type": "stream",
     "text": [
      " Time Taken :  0:02:26.533536\n"
     ]
    }
   ],
   "source": [
    "from sklearn.metrics.pairwise import cosine_similarity\n",
    "from datetime import datetime\n",
    "\n",
    "start = datetime.now()\n",
    "\n",
    "\n",
    "rows, cols, data = list(), list(), list()\n",
    "\n",
    "r, c = trSparse.nonzero()\n",
    "\n",
    "r = sorted( set(r) )\n",
    "\n",
    "top = 100\n",
    "\n",
    "for row in r[:top] :\n",
    "        \n",
    "        # get the similarity row for this user with all other users\n",
    "        sim = cosine_similarity( trSparse.getrow(row), trSparse ).ravel()\n",
    "        \n",
    "        # We will get only the top 'top' most similar users and ignore rest of them.\n",
    "        sind = sim.argsort()[ -top : ]\n",
    "        sval = sim[ sind ]\n",
    "        \n",
    "        # Adding them to our rows, cols and data\n",
    "        rows.extend( [row] * top )\n",
    "        cols.extend( sind )\n",
    "        data.extend( sval )\n",
    "    \n",
    "print(' Time Taken : ', datetime.now() - start )"
   ]
  },
  {
   "cell_type": "code",
   "execution_count": 14,
   "metadata": {},
   "outputs": [
    {
     "name": "stdout",
     "output_type": "stream",
     "text": [
      "10000 10000 10000\n",
      "[0.4205126648654114, 0.42072687857575297, 0.42099475669432485, 0.4210315817357486, 0.421245235402381]\n"
     ]
    }
   ],
   "source": [
    "print( len(rows), len(cols), len(data) )\n",
    "\n",
    "print( data[:5] )"
   ]
  },
  {
   "cell_type": "code",
   "execution_count": 15,
   "metadata": {},
   "outputs": [
    {
     "data": {
      "text/plain": [
       "(2649430, 2649430)"
      ]
     },
     "execution_count": 15,
     "metadata": {},
     "output_type": "execute_result"
    }
   ],
   "source": [
    "uuSim = sparse.csr_matrix( (data, (rows, cols) ), shape=(trSparse.shape[0], trSparse.shape[0]) )\n",
    "\n",
    "uuSim.shape"
   ]
  },
  {
   "cell_type": "code",
   "execution_count": null,
   "metadata": {
    "collapsed": true
   },
   "outputs": [],
   "source": []
  },
  {
   "cell_type": "markdown",
   "metadata": {},
   "source": [
    "An alternative is to compute similar users for a particular user,  whenenver required (**ie., Run time**)\n",
    "\n",
    "  - We maintain a binary Vector for users, which tells us whether we already computed or not..\n",
    "  \n",
    "    - If not : \n",
    "        - Compute top (let's just say, 1000) most similar users for this given user, and add this to our datastructure, so that we can just access it(similar users) without recomputing it again.\n",
    "        <br>\n",
    "        <br>\n",
    "    - If It is already Computed:\n",
    "        - Just get it directly from our datastructure, which has that information.\n",
    "        - In production time, We might have to recompute similarities, if it is computed a long time ago. Because user preferences changes over time. If we could maintain some kind of Timer, which when expires, we have to update it ( recompute it ). \n",
    "        \n",
    "        \n",
    " - Which datastructure to use:\n",
    "      - It is purely implementation dependant. \n",
    "      - One simple method is to maintain a **Dictionary Of Dictionaries**.\n",
    "           - **key    :** _userid_ \n",
    "           - __value__: _Again a dictionary_\n",
    "               - __key__  : _Similar User_\n",
    "               - __value__: _Similarity Value_"
   ]
  },
  {
   "cell_type": "markdown",
   "metadata": {},
   "source": [
    "### Movie Movie Similarity"
   ]
  },
  {
   "cell_type": "code",
   "execution_count": 16,
   "metadata": {},
   "outputs": [
    {
     "name": "stdout",
     "output_type": "stream",
     "text": [
      "(9211, 9211)\n",
      " Time Taken :  0:00:30.887744\n"
     ]
    }
   ],
   "source": [
    "start = datetime.now()\n",
    "\n",
    "mmSim = cosine_similarity( X = trSparse.T, dense_output=False )\n",
    "\n",
    "print( mmSim.shape )\n",
    "\n",
    "print(' Time Taken : ', datetime.now() - start )"
   ]
  },
  {
   "cell_type": "code",
   "execution_count": 17,
   "metadata": {},
   "outputs": [
    {
     "name": "stdout",
     "output_type": "stream",
     "text": [
      "[7809 7641 6871 ... 4628 4577 4563]\n",
      "(4606,)\n"
     ]
    }
   ],
   "source": [
    "# We take only those top similar movie ratings and store them in a saperate dictionary.\n",
    "\n",
    "print( mmSim.nonzero()[1] )\n",
    "\n",
    "movieIds = np.unique( mmSim.nonzero()[1] )\n",
    "\n",
    "print( movieIds.shape )"
   ]
  },
  {
   "cell_type": "code",
   "execution_count": 18,
   "metadata": {},
   "outputs": [
    {
     "name": "stdout",
     "output_type": "stream",
     "text": [
      "(9210,)\n"
     ]
    },
    {
     "data": {
      "text/plain": [
       "array([3067, 3073, 3072, ..., 6148, 6149,    0])"
      ]
     },
     "execution_count": 18,
     "metadata": {},
     "output_type": "execute_result"
    }
   ],
   "source": [
    "print( mmSim[1726].toarray().ravel().argsort()[::-1][1:].shape )\n",
    "mmSim[1726].toarray().ravel().argsort()[::-1][1:]"
   ]
  },
  {
   "cell_type": "code",
   "execution_count": 19,
   "metadata": {
    "collapsed": true
   },
   "outputs": [],
   "source": [
    "simMovie = dict()\n",
    "\n",
    "for movie in movieIds :\n",
    "    \n",
    "    similar = mmSim[movie].toarray().ravel().argsort()[::-1][1:]\n",
    "    \n",
    "    simMovie[movie] = similar[:100]"
   ]
  },
  {
   "cell_type": "code",
   "execution_count": 20,
   "metadata": {},
   "outputs": [
    {
     "name": "stdout",
     "output_type": "stream",
     "text": [
      "(100,)\n"
     ]
    },
    {
     "data": {
      "text/plain": [
       "array([8937, 6734, 6980, 4967, 9167, 8802, 5439, 5058, 8866, 8002, 6414,\n",
       "       7506, 5918, 5411, 5249, 8234, 6809, 6992, 8779, 5757, 5449, 5424,\n",
       "       4860, 4901, 7945, 4940, 8475, 6376, 5795, 7285, 5398, 8501, 8649,\n",
       "       6954, 8759, 6360, 4571, 5784, 5099, 7335, 7120, 4941, 4903, 8588,\n",
       "       5719, 5752, 6242, 8285, 6517, 5726, 8459, 6058, 6088, 7687, 5205,\n",
       "       4510, 9117, 4811, 5780, 9083, 6412, 6897, 5484, 7033, 5779, 9163,\n",
       "       7856, 8145, 5964, 4762, 8265, 6059, 5098, 6581, 5881, 4540, 7842,\n",
       "       5037, 5720, 6426, 8323, 5452, 5500, 7328, 7068, 7407, 8303, 8849,\n",
       "       7666, 9181, 8816, 5860, 6200, 7795, 9002, 6745, 8221, 6865, 5548,\n",
       "       5146])"
      ]
     },
     "execution_count": 20,
     "metadata": {},
     "output_type": "execute_result"
    }
   ],
   "source": [
    "print( simMovie[8196].shape )\n",
    "simMovie[8196]"
   ]
  },
  {
   "cell_type": "code",
   "execution_count": null,
   "metadata": {
    "collapsed": true
   },
   "outputs": [],
   "source": []
  },
  {
   "cell_type": "code",
   "execution_count": 22,
   "metadata": {},
   "outputs": [
    {
     "data": {
      "text/html": [
       "<div>\n",
       "<style scoped>\n",
       "    .dataframe tbody tr th:only-of-type {\n",
       "        vertical-align: middle;\n",
       "    }\n",
       "\n",
       "    .dataframe tbody tr th {\n",
       "        vertical-align: top;\n",
       "    }\n",
       "\n",
       "    .dataframe thead th {\n",
       "        text-align: right;\n",
       "    }\n",
       "</style>\n",
       "<table border=\"1\" class=\"dataframe\">\n",
       "  <thead>\n",
       "    <tr style=\"text-align: right;\">\n",
       "      <th></th>\n",
       "      <th>year</th>\n",
       "      <th>title</th>\n",
       "    </tr>\n",
       "    <tr>\n",
       "      <th>movieID</th>\n",
       "      <th></th>\n",
       "      <th></th>\n",
       "    </tr>\n",
       "  </thead>\n",
       "  <tbody>\n",
       "    <tr>\n",
       "      <th>1</th>\n",
       "      <td>2003.0</td>\n",
       "      <td>Dinosaur Planet</td>\n",
       "    </tr>\n",
       "    <tr>\n",
       "      <th>2</th>\n",
       "      <td>2004.0</td>\n",
       "      <td>Isle of Man TT 2004 Review</td>\n",
       "    </tr>\n",
       "    <tr>\n",
       "      <th>3</th>\n",
       "      <td>1997.0</td>\n",
       "      <td>Character</td>\n",
       "    </tr>\n",
       "    <tr>\n",
       "      <th>4</th>\n",
       "      <td>1994.0</td>\n",
       "      <td>Paula Abdul's Get Up &amp; Dance</td>\n",
       "    </tr>\n",
       "    <tr>\n",
       "      <th>5</th>\n",
       "      <td>2004.0</td>\n",
       "      <td>The Rise and Fall of ECW</td>\n",
       "    </tr>\n",
       "    <tr>\n",
       "      <th>6</th>\n",
       "      <td>1997.0</td>\n",
       "      <td>Sick</td>\n",
       "    </tr>\n",
       "    <tr>\n",
       "      <th>7</th>\n",
       "      <td>1992.0</td>\n",
       "      <td>8 Man</td>\n",
       "    </tr>\n",
       "    <tr>\n",
       "      <th>8</th>\n",
       "      <td>2004.0</td>\n",
       "      <td>What the #$*! Do We Know!?</td>\n",
       "    </tr>\n",
       "    <tr>\n",
       "      <th>9</th>\n",
       "      <td>1991.0</td>\n",
       "      <td>Class of Nuke 'Em High 2</td>\n",
       "    </tr>\n",
       "    <tr>\n",
       "      <th>10</th>\n",
       "      <td>2001.0</td>\n",
       "      <td>Fighter</td>\n",
       "    </tr>\n",
       "  </tbody>\n",
       "</table>\n",
       "</div>"
      ],
      "text/plain": [
       "           year                         title\n",
       "movieID                                      \n",
       "1        2003.0               Dinosaur Planet\n",
       "2        2004.0    Isle of Man TT 2004 Review\n",
       "3        1997.0                     Character\n",
       "4        1994.0  Paula Abdul's Get Up & Dance\n",
       "5        2004.0      The Rise and Fall of ECW\n",
       "6        1997.0                          Sick\n",
       "7        1992.0                         8 Man\n",
       "8        2004.0    What the #$*! Do We Know!?\n",
       "9        1991.0      Class of Nuke 'Em High 2\n",
       "10       2001.0                       Fighter"
      ]
     },
     "execution_count": 22,
     "metadata": {},
     "output_type": "execute_result"
    }
   ],
   "source": [
    "# Loading Movie Titles to check wether Similarity really works as the way we expected\n",
    "\n",
    "titles = pd.read_csv(\"gs://netflix1/movie_titles.csv\", sep=',', header=None,\n",
    "                     names=['movieID', 'year', 'title'],\n",
    "                     index_col = 'movieID', encoding = \"ISO-8859-1\")\n",
    "\n",
    "titles.head(10)"
   ]
  },
  {
   "cell_type": "code",
   "execution_count": 23,
   "metadata": {},
   "outputs": [
    {
     "data": {
      "text/plain": [
       "30"
      ]
     },
     "execution_count": 23,
     "metadata": {},
     "output_type": "execute_result"
    }
   ],
   "source": [
    "id = 1\n",
    "\n",
    "trSparse[ : ,id].getnnz()\n",
    "\n",
    "# getnnz() : Number of stored values, including explicit zeros."
   ]
  },
  {
   "cell_type": "code",
   "execution_count": 24,
   "metadata": {},
   "outputs": [
    {
     "name": "stdout",
     "output_type": "stream",
     "text": [
      " Title of the Movie   :  Dinosaur Planet\n",
      " Ratings from users   :  30\n",
      " Similar Movies (top) :  2860\n"
     ]
    }
   ],
   "source": [
    "id = 1\n",
    "\n",
    "print(\" Title of the Movie   : \",titles.loc[id].values[1] )\n",
    "\n",
    "print(\" Ratings from users   : \", trSparse[ : ,id].getnnz() )\n",
    "\n",
    "print(\" Similar Movies (top) : \", mmSim[ : ,id].getnnz() )"
   ]
  },
  {
   "cell_type": "code",
   "execution_count": 25,
   "metadata": {},
   "outputs": [
    {
     "data": {
      "text/plain": [
       "array([0.09725985, 0.08202692, 0.07884165, ..., 0.        , 0.        ,\n",
       "       0.        ])"
      ]
     },
     "execution_count": 25,
     "metadata": {},
     "output_type": "execute_result"
    }
   ],
   "source": [
    "similarity = mmSim[ id ].toarray().ravel()\n",
    "\n",
    "simInd = similarity.argsort()[ ::-1 ][ 1: ]\n",
    "\n",
    "similarity[ simInd ]\n",
    "\n",
    "# It will sort and reverse the array and ignore its similarity (ie.,1) and return its indices(movieID)"
   ]
  },
  {
   "cell_type": "code",
   "execution_count": 26,
   "metadata": {},
   "outputs": [
    {
     "data": {
      "text/html": [
       "<div>\n",
       "<style scoped>\n",
       "    .dataframe tbody tr th:only-of-type {\n",
       "        vertical-align: middle;\n",
       "    }\n",
       "\n",
       "    .dataframe tbody tr th {\n",
       "        vertical-align: top;\n",
       "    }\n",
       "\n",
       "    .dataframe thead th {\n",
       "        text-align: right;\n",
       "    }\n",
       "</style>\n",
       "<table border=\"1\" class=\"dataframe\">\n",
       "  <thead>\n",
       "    <tr style=\"text-align: right;\">\n",
       "      <th></th>\n",
       "      <th>year</th>\n",
       "      <th>title</th>\n",
       "    </tr>\n",
       "    <tr>\n",
       "      <th>movieID</th>\n",
       "      <th></th>\n",
       "      <th></th>\n",
       "    </tr>\n",
       "  </thead>\n",
       "  <tbody>\n",
       "    <tr>\n",
       "      <th>8800</th>\n",
       "      <td>2003.0</td>\n",
       "      <td>Prehistoric America: A Journey Through the Ice...</td>\n",
       "    </tr>\n",
       "    <tr>\n",
       "      <th>5302</th>\n",
       "      <td>2003.0</td>\n",
       "      <td>Chased by Dinosaurs: Three Walking with Dinosa...</td>\n",
       "    </tr>\n",
       "    <tr>\n",
       "      <th>6781</th>\n",
       "      <td>1949.0</td>\n",
       "      <td>Candid Camera: 5 Decades of Smiles</td>\n",
       "    </tr>\n",
       "    <tr>\n",
       "      <th>7301</th>\n",
       "      <td>1961.0</td>\n",
       "      <td>The Best of Mr. Peabody &amp; Sherman: Vol. 1</td>\n",
       "    </tr>\n",
       "    <tr>\n",
       "      <th>8921</th>\n",
       "      <td>2004.0</td>\n",
       "      <td>Steve-O: Gross Misconduct</td>\n",
       "    </tr>\n",
       "    <tr>\n",
       "      <th>6178</th>\n",
       "      <td>2001.0</td>\n",
       "      <td>Underwaterworld Trilogy: Deep Encouters / Ocea...</td>\n",
       "    </tr>\n",
       "    <tr>\n",
       "      <th>4618</th>\n",
       "      <td>2005.0</td>\n",
       "      <td>Queer Eye for the Straight Guy: Queer Eye for ...</td>\n",
       "    </tr>\n",
       "    <tr>\n",
       "      <th>5364</th>\n",
       "      <td>1998.0</td>\n",
       "      <td>Body Story</td>\n",
       "    </tr>\n",
       "    <tr>\n",
       "      <th>9157</th>\n",
       "      <td>1998.0</td>\n",
       "      <td>Fear Faith Revenge 303</td>\n",
       "    </tr>\n",
       "    <tr>\n",
       "      <th>8573</th>\n",
       "      <td>2004.0</td>\n",
       "      <td>Egypt Uncovered</td>\n",
       "    </tr>\n",
       "  </tbody>\n",
       "</table>\n",
       "</div>"
      ],
      "text/plain": [
       "           year                                              title\n",
       "movieID                                                           \n",
       "8800     2003.0  Prehistoric America: A Journey Through the Ice...\n",
       "5302     2003.0  Chased by Dinosaurs: Three Walking with Dinosa...\n",
       "6781     1949.0                 Candid Camera: 5 Decades of Smiles\n",
       "7301     1961.0          The Best of Mr. Peabody & Sherman: Vol. 1\n",
       "8921     2004.0                          Steve-O: Gross Misconduct\n",
       "6178     2001.0  Underwaterworld Trilogy: Deep Encouters / Ocea...\n",
       "4618     2005.0  Queer Eye for the Straight Guy: Queer Eye for ...\n",
       "5364     1998.0                                         Body Story\n",
       "9157     1998.0                             Fear Faith Revenge 303\n",
       "8573     2004.0                                    Egypt Uncovered"
      ]
     },
     "execution_count": 26,
     "metadata": {},
     "output_type": "execute_result"
    }
   ],
   "source": [
    "titles.loc[ simInd[:10] ]"
   ]
  },
  {
   "cell_type": "markdown",
   "metadata": {},
   "source": [
    "## Sampling data"
   ]
  },
  {
   "cell_type": "code",
   "execution_count": null,
   "metadata": {
    "collapsed": true
   },
   "outputs": [],
   "source": [
    "sparse.find( trSparse )\n",
    "\n",
    "# find() : Return the indices and values of the nonzero elements of a matrix"
   ]
  },
  {
   "cell_type": "code",
   "execution_count": 61,
   "metadata": {},
   "outputs": [
    {
     "name": "stdout",
     "output_type": "stream",
     "text": [
      "[[0 2]\n",
      " [4 6]]\n",
      "[1, 2, 4, 8] \n",
      "\n",
      "[[False  True]\n",
      " [ True False]] \n",
      "\n",
      "[2 4]\n"
     ]
    }
   ],
   "source": [
    "# Understanding isin()\n",
    "\n",
    "element = 2 * np.arange(4).reshape((2, 2))\n",
    "print(element)\n",
    "\n",
    "test_elements = [1, 2, 4, 8]\n",
    "\n",
    "print(test_elements,'\\n')\n",
    "mask = np.isin(element, test_elements)\n",
    "\n",
    "print(mask,'\\n')\n",
    "\n",
    "print(element[mask])\n",
    "\n",
    "# isin() : Returns a boolean array of the same shape as element \n",
    "# That is True where an element of element is in test_elements and False otherwise.\n",
    "\n",
    "# invert=True : Turns False -> True and true -> False"
   ]
  },
  {
   "cell_type": "code",
   "execution_count": 27,
   "metadata": {
    "collapsed": true
   },
   "outputs": [],
   "source": [
    "import numpy as np\n",
    "\n",
    "def sample( matrix, nuser, nmovie ):\n",
    "\n",
    "    \n",
    "    # Getting row, cols and ratings tuple from the matrix\n",
    "    rind, cind, ratings = sparse.find( matrix )\n",
    "    \n",
    "    users = np.unique( rind )\n",
    "    movies = np.unique( cind )\n",
    "\n",
    "    print(\" Original Matrix (users, movies) : \", len(users), len(movies) )\n",
    "    print(\" Original Matrix  Ratings        : \", len(ratings) )\n",
    "\n",
    "    # Making sure to get same sample everytime we run this program and pick without replacement\n",
    "    np.random.seed(15)  \n",
    "    sampleUser = np.random.choice( users, nuser, replace=False )\n",
    "    sampleMovie = np.random.choice( movies, nmovie, replace=False )\n",
    "    \n",
    "    mask = np.logical_and( np.isin(rind, sampleUser), np.isin(cind, sampleMovie) )\n",
    "    \n",
    "    # mask is a boolean array on original matrix  which has 'True' at those points for which there is unique id....\n",
    "    # ... and that id is present in sampled data i,e; sampleUser ( same for col id and sampleMovie )\n",
    "    \n",
    "    sampleMatrix = sparse.csr_matrix( (ratings[mask], ( rind[mask], cind[mask] ) ),\n",
    "                                     shape = ( max(sampleUser)+1, max(sampleMovie)+1 ) )\n",
    "\n",
    "    print(\" Sampled Matrix (users, movies) : \", len(sampleUser), len(sampleMovie) )\n",
    "    print(\" Sampled Matrix Ratings         : \", ratings[mask].shape[0] )\n",
    "\n",
    "    return sampleMatrix\n",
    "\n",
    "# np.random.choice : Generates a random sample from a given 1-D array"
   ]
  },
  {
   "cell_type": "code",
   "execution_count": 28,
   "metadata": {},
   "outputs": [
    {
     "data": {
      "text/plain": [
       "(2649430, 9211)"
      ]
     },
     "execution_count": 28,
     "metadata": {},
     "output_type": "execute_result"
    }
   ],
   "source": [
    "trSparse.shape"
   ]
  },
  {
   "cell_type": "code",
   "execution_count": 29,
   "metadata": {},
   "outputs": [
    {
     "name": "stdout",
     "output_type": "stream",
     "text": [
      " Original Matrix (users, movies) :  393931 4606\n",
      " Original Matrix  Ratings        :  21582104\n",
      " Sampled Matrix (users, movies) :  17000 2000\n",
      " Sampled Matrix Ratings         :  384957\n"
     ]
    },
    {
     "data": {
      "text/plain": [
       "(2649405, 9211)"
      ]
     },
     "execution_count": 29,
     "metadata": {},
     "output_type": "execute_result"
    }
   ],
   "source": [
    "trSample = sample( trSparse, 17000, 2000 )\n",
    "\n",
    "trSample.shape"
   ]
  },
  {
   "cell_type": "code",
   "execution_count": 30,
   "metadata": {},
   "outputs": [
    {
     "data": {
      "text/plain": [
       "(2649430, 9211)"
      ]
     },
     "execution_count": 30,
     "metadata": {},
     "output_type": "execute_result"
    }
   ],
   "source": [
    "teSparse.shape"
   ]
  },
  {
   "cell_type": "code",
   "execution_count": 31,
   "metadata": {},
   "outputs": [
    {
     "name": "stdout",
     "output_type": "stream",
     "text": [
      " Original Matrix (users, movies) :  302567 4707\n",
      " Original Matrix  Ratings        :  5395527\n",
      " Sampled Matrix (users, movies) :  8000 800\n",
      " Sampled Matrix Ratings         :  24595\n"
     ]
    },
    {
     "data": {
      "text/plain": [
       "(2649232, 9206)"
      ]
     },
     "execution_count": 31,
     "metadata": {},
     "output_type": "execute_result"
    }
   ],
   "source": [
    "teSample = sample( teSparse, 8000, 800 )\n",
    "\n",
    "teSample.shape"
   ]
  },
  {
   "cell_type": "code",
   "execution_count": null,
   "metadata": {
    "collapsed": true
   },
   "outputs": [],
   "source": []
  },
  {
   "cell_type": "code",
   "execution_count": 32,
   "metadata": {},
   "outputs": [
    {
     "data": {
      "text/plain": [
       "{'global': 3.559719657000652}"
      ]
     },
     "execution_count": 32,
     "metadata": {},
     "output_type": "execute_result"
    }
   ],
   "source": [
    "trSampleAvg = dict()\n",
    "\n",
    "# Finding Global avg. of all movie ratings\n",
    "gAvg = trSample.sum() / trSample.count_nonzero()\n",
    "\n",
    "trSampleAvg['global'] = gAvg\n",
    "\n",
    "trSampleAvg"
   ]
  },
  {
   "cell_type": "code",
   "execution_count": 33,
   "metadata": {},
   "outputs": [
    {
     "data": {
      "text/plain": [
       "4.2727272727272725"
      ]
     },
     "execution_count": 33,
     "metadata": {},
     "output_type": "execute_result"
    }
   ],
   "source": [
    "# Finding Average rating per User\n",
    "\n",
    "trSampleAvg['user'] = avg( trSample, 1 )\n",
    "\n",
    "trSampleAvg['user'][1179656]\n",
    "\n",
    "# avg( matrix, axis ): returns user avg. in dictionary (key: userID/movieID, value: avg. rating)\n",
    "# matrix : Sparse Matrix,   axis: 1 - User axes,  0 - Movie axes"
   ]
  },
  {
   "cell_type": "code",
   "execution_count": 34,
   "metadata": {},
   "outputs": [
    {
     "data": {
      "text/plain": [
       "1.5555555555555556"
      ]
     },
     "execution_count": 34,
     "metadata": {},
     "output_type": "execute_result"
    }
   ],
   "source": [
    "# Finding Average rating per Movie\n",
    "\n",
    "trSampleAvg['movie'] = avg( trSample, 0 )\n",
    "\n",
    "trSampleAvg['movie'][8205]"
   ]
  },
  {
   "cell_type": "markdown",
   "metadata": {},
   "source": [
    "## Featurizing Data"
   ]
  },
  {
   "cell_type": "code",
   "execution_count": 34,
   "metadata": {
    "collapsed": true
   },
   "outputs": [],
   "source": [
    "trSU, trSM, trSR = sparse.find( trSample )\n",
    "\n",
    "# Here, trSU : Train Smaple Users.     tsSM : Train sample Movies."
   ]
  },
  {
   "cell_type": "code",
   "execution_count": 35,
   "metadata": {},
   "outputs": [
    {
     "name": "stdout",
     "output_type": "stream",
     "text": [
      " Featurizing Train : Preparing for  384957  rows \n"
     ]
    }
   ],
   "source": [
    "print(' Featurizing Train : Preparing for ', len(trSM), ' rows ' )"
   ]
  },
  {
   "cell_type": "code",
   "execution_count": 36,
   "metadata": {},
   "outputs": [
    {
     "name": "stdout",
     "output_type": "stream",
     "text": [
      "< 5000 rows 0:19:15.762668 >           < 10000 rows 0:38:24.423168 >           < 15000 rows 0:57:34.175769 >           \n",
      "< 20000 rows 1:16:52.882351 >           < 25000 rows 1:36:10.752369 >           < 30000 rows 1:55:26.102627 >           \n",
      "< 35000 rows 2:14:31.979153 >           < 40000 rows 2:33:42.203913 >           < 45000 rows 2:52:56.629285 >           \n",
      "< 50000 rows 3:12:43.003749 >           < 55000 rows 3:32:31.816521 >           < 60000 rows 3:52:06.165977 >           \n",
      "< 65000 rows 4:11:57.110102 >           < 70000 rows 4:32:14.234665 >           < 75000 rows 4:52:11.871170 >           \n",
      "< 80000 rows 5:12:18.564396 >           < 85000 rows 5:32:09.270044 >           < 90000 rows 5:52:20.784563 >           \n",
      "< 95000 rows 6:12:18.786355 >           < 100000 rows 6:32:34.128983 >           < 105000 rows 6:52:38.517547 >           \n",
      "< 110000 rows 7:12:44.420887 >           < 115000 rows 7:33:04.710089 >           < 120000 rows 7:53:01.857808 >           \n",
      "< 125000 rows 8:12:55.190679 >           < 130000 rows 8:33:07.091098 >           < 135000 rows 8:53:18.610870 >           \n",
      "< 140000 rows 9:13:24.900626 >           < 145000 rows 9:33:26.007046 >           < 150000 rows 9:53:38.418577 >           \n",
      "< 155000 rows 10:14:00.396402 >           < 160000 rows 10:34:09.247866 >           < 165000 rows 10:54:14.675472 >           \n",
      "< 175000 rows 11:34:21.869833 >           < 180000 rows 11:54:24.763570 >           \n",
      "< 185000 rows 12:14:32.708485 >           < 190000 rows 12:34:43.592961 >           < 195000 rows 12:54:50.231580 >           \n",
      "< 200000 rows 13:15:00.247797 >           < 205000 rows 13:35:15.142768 >           < 210000 rows 13:55:29.095481 >           \n",
      "< 215000 rows 14:15:42.824749 >           < 220000 rows 14:36:04.900073 >           < 225000 rows 14:56:35.980525 >           \n",
      "< 230000 rows 15:16:51.080874 >           < 235000 rows 15:37:03.922643 >           < 240000 rows 15:57:17.246434 >           \n",
      "< 245000 rows 16:17:31.194199 >           < 250000 rows 16:37:38.364025 >           < 255000 rows 16:57:31.971439 >           \n",
      "< 260000 rows 17:17:19.819748 >           < 265000 rows 17:37:06.856708 >           < 270000 rows 17:56:53.018401 >           \n",
      "< 275000 rows 18:16:41.989242 >           < 280000 rows 18:36:29.108066 >           < 285000 rows 18:56:11.478298 >           \n",
      "< 290000 rows 19:15:51.693876 >           < 295000 rows 19:35:29.609148 >           < 300000 rows 19:55:05.356073 >           \n",
      "< 305000 rows 20:14:46.822344 >           < 310000 rows 20:34:41.911773 >           < 315000 rows 20:54:12.588723 >           \n",
      "< 320000 rows 21:13:44.049616 >           < 325000 rows 21:33:21.612017 >           < 330000 rows 21:52:50.100662 >           \n",
      "< 335000 rows 22:12:25.472159 >           < 340000 rows 22:32:02.438055 >           < 345000 rows 22:51:47.749809 >           \n",
      "< 350000 rows 23:11:34.735319 >           < 355000 rows 23:31:30.114383 >           < 360000 rows 23:51:43.968263 >           \n",
      "< 365000 rows 1 day, 0:11:58.560465 >           < 370000 rows 1 day, 0:32:12.755629 >           < 375000 rows 1 day, 0:52:25.984721 >           \n",
      "< 380000 rows 1 day, 1:12:34.850487 >            Total Time Taken :  1 day, 1:32:38.977136\n"
     ]
    }
   ],
   "source": [
    "# Featurizing Train data\n",
    "\n",
    "start = datetime.now()\n",
    "\n",
    "with open('trFeat1.csv', mode='w') as trFeat:\n",
    "    \n",
    "    count = 0\n",
    "    c1 = 0\n",
    "    \n",
    "    for ( user, movie, rating )  in zip( trSU, trSM, trSR ):\n",
    "    \n",
    "    \n",
    "    # -- Ratings of a MOVIE by similar users of USER --------------------------------\n",
    "\n",
    "        # Computing similar users\n",
    "        userSim = cosine_similarity( trSample[user], trSample ).ravel()\n",
    "\n",
    "        topSimUser = userSim.argsort()[::-1][1:] \n",
    "        # [1:]  : We ignore The Original (self) user from its similar users.\n",
    "\n",
    "        # Getting the ratings of Top Similar users for this movie\n",
    "\n",
    "        topR = trSample[ topSimUser, movie ].toarray().ravel()\n",
    "\n",
    "        topSimUR = list( topR[ topR != 0 ][:5] )\n",
    "        topSimUR.extend( [ trSampleAvg['movie'][movie] ] * ( 5 - len(topSimUR) ) )\n",
    "        # we will make it's length \"5\" by adding user averages to.\n",
    "\n",
    "\n",
    "    # -- Ratings by USER  to similar movies of MOVIE ----------------------------------\n",
    "\n",
    "        # Computing the similar movies         \n",
    "        movieSim = cosine_similarity( trSample[ : ,movie ].T, trSample.T ).ravel()\n",
    "\n",
    "        topSimMovie = movieSim.argsort()[::-1][1:] \n",
    "\n",
    "        # Getting the ratings of Top Similar Movies rated by this user\n",
    "\n",
    "        topR = trSample[ user, topSimMovie ].toarray().ravel()\n",
    "\n",
    "        topSimMR = list( topR[ topR != 0 ][:5] )\n",
    "        topSimMR.extend( [ trSampleAvg['user'][user] ] * ( 5 - len(topSimMR) ) ) \n",
    "        \n",
    "        \n",
    "    # -- Preparing to store data ---------------------------------------------------------\n",
    "        \n",
    "        row = list()\n",
    "        row.append( user )\n",
    "        row.append( movie )\n",
    "\n",
    "        # Adding other features to this data\n",
    "\n",
    "        # 1st feature\n",
    "        row.append( trSampleAvg['global'] ) \n",
    "\n",
    "        # Next 5 features are similarUsers MOVIE ratings\n",
    "        row.extend( topSimUR )\n",
    "\n",
    "        # Next 5 features are USER ratings for similarMovies\n",
    "        row.extend( topSimMR )\n",
    "\n",
    "        # Avg. User Rating\n",
    "        row.append( trSampleAvg['user'][user] )\n",
    "\n",
    "        # Avg. Movie Rating\n",
    "        row.append( trSampleAvg['movie'][movie] )\n",
    "\n",
    "        # The actual Rating of this user-movie pair\n",
    "        row.append( rating )\n",
    "\n",
    "        count = count + 1\n",
    "\n",
    "        # Adding rows to the file opened\n",
    "        trFeat.write( ','.join( map(str, row) ))\n",
    "        trFeat.write('\\n')        \n",
    "\n",
    "        # Just to display Progress\n",
    "        if (count) % 5000 == 0:\n",
    "            print( '<',count,'rows', datetime.now() - start, '>', end='           ')\n",
    "            \n",
    "            c1 += 1\n",
    "            if c1 == 3:\n",
    "                print('\\n',end='')\n",
    "                c1 = 0\n",
    "\n",
    "print(' Total Time Taken : ', datetime.now() - start )"
   ]
  },
  {
   "cell_type": "markdown",
   "metadata": {},
   "source": [
    "<h3>Features Added :</h3>\n",
    "    \n",
    "- __GAvg__ : Average rating of all the ratings \n",
    "\n",
    "\n",
    "- __Similar users rating of this movie__:\n",
    "    - 'ur1', 'ur2', 'ur3', 'ur4', 'ur5' ( Top 5 similar users who rated that movie )\n",
    "    \n",
    "\n",
    "- __Similar movies rated by this user__:\n",
    "    - 'mr1', 'mr2', 'mr3', 'mr4', 'mr5' ( Top 5 similar movies rated by this movie )\n",
    "\n",
    "\n",
    "- __Uavg__ : User's Average rating\n",
    "\n",
    "\n",
    "- __Mavg__ : Average rating of this movie\n",
    "\n",
    "\n",
    "- __rating__ : Rating of this movie by this user.\n"
   ]
  },
  {
   "cell_type": "code",
   "execution_count": 1,
   "metadata": {},
   "outputs": [
    {
     "name": "stdout",
     "output_type": "stream",
     "text": [
      "(384957, 16)\n"
     ]
    },
    {
     "data": {
      "text/html": [
       "<div>\n",
       "<style scoped>\n",
       "    .dataframe tbody tr th:only-of-type {\n",
       "        vertical-align: middle;\n",
       "    }\n",
       "\n",
       "    .dataframe tbody tr th {\n",
       "        vertical-align: top;\n",
       "    }\n",
       "\n",
       "    .dataframe thead th {\n",
       "        text-align: right;\n",
       "    }\n",
       "</style>\n",
       "<table border=\"1\" class=\"dataframe\">\n",
       "  <thead>\n",
       "    <tr style=\"text-align: right;\">\n",
       "      <th></th>\n",
       "      <th>user</th>\n",
       "      <th>movie</th>\n",
       "      <th>Gavg</th>\n",
       "      <th>ur1</th>\n",
       "      <th>ur2</th>\n",
       "      <th>ur3</th>\n",
       "      <th>ur4</th>\n",
       "      <th>ur5</th>\n",
       "      <th>mr1</th>\n",
       "      <th>mr2</th>\n",
       "      <th>mr3</th>\n",
       "      <th>mr4</th>\n",
       "      <th>mr5</th>\n",
       "      <th>Uavg</th>\n",
       "      <th>Mavg</th>\n",
       "      <th>rating</th>\n",
       "    </tr>\n",
       "  </thead>\n",
       "  <tbody>\n",
       "    <tr>\n",
       "      <th>0</th>\n",
       "      <td>1248029</td>\n",
       "      <td>1</td>\n",
       "      <td>3.55972</td>\n",
       "      <td>3.0</td>\n",
       "      <td>3.0</td>\n",
       "      <td>3.0</td>\n",
       "      <td>3.0</td>\n",
       "      <td>3.0</td>\n",
       "      <td>4.0</td>\n",
       "      <td>3.0</td>\n",
       "      <td>4.0</td>\n",
       "      <td>5.0</td>\n",
       "      <td>3.0</td>\n",
       "      <td>3.254777</td>\n",
       "      <td>3.000000</td>\n",
       "      <td>3</td>\n",
       "    </tr>\n",
       "    <tr>\n",
       "      <th>1</th>\n",
       "      <td>209104</td>\n",
       "      <td>4501</td>\n",
       "      <td>3.55972</td>\n",
       "      <td>4.0</td>\n",
       "      <td>3.0</td>\n",
       "      <td>2.0</td>\n",
       "      <td>1.0</td>\n",
       "      <td>1.0</td>\n",
       "      <td>2.0</td>\n",
       "      <td>3.0</td>\n",
       "      <td>5.0</td>\n",
       "      <td>5.0</td>\n",
       "      <td>5.0</td>\n",
       "      <td>4.612903</td>\n",
       "      <td>2.904762</td>\n",
       "      <td>2</td>\n",
       "    </tr>\n",
       "    <tr>\n",
       "      <th>2</th>\n",
       "      <td>343411</td>\n",
       "      <td>4501</td>\n",
       "      <td>3.55972</td>\n",
       "      <td>1.0</td>\n",
       "      <td>4.0</td>\n",
       "      <td>5.0</td>\n",
       "      <td>4.0</td>\n",
       "      <td>1.0</td>\n",
       "      <td>5.0</td>\n",
       "      <td>5.0</td>\n",
       "      <td>5.0</td>\n",
       "      <td>3.0</td>\n",
       "      <td>5.0</td>\n",
       "      <td>4.625000</td>\n",
       "      <td>2.904762</td>\n",
       "      <td>5</td>\n",
       "    </tr>\n",
       "    <tr>\n",
       "      <th>3</th>\n",
       "      <td>368124</td>\n",
       "      <td>4501</td>\n",
       "      <td>3.55972</td>\n",
       "      <td>5.0</td>\n",
       "      <td>4.0</td>\n",
       "      <td>2.0</td>\n",
       "      <td>3.0</td>\n",
       "      <td>4.0</td>\n",
       "      <td>5.0</td>\n",
       "      <td>3.0</td>\n",
       "      <td>4.0</td>\n",
       "      <td>4.0</td>\n",
       "      <td>3.0</td>\n",
       "      <td>3.142857</td>\n",
       "      <td>2.904762</td>\n",
       "      <td>3</td>\n",
       "    </tr>\n",
       "    <tr>\n",
       "      <th>4</th>\n",
       "      <td>592691</td>\n",
       "      <td>4501</td>\n",
       "      <td>3.55972</td>\n",
       "      <td>3.0</td>\n",
       "      <td>2.0</td>\n",
       "      <td>3.0</td>\n",
       "      <td>3.0</td>\n",
       "      <td>1.0</td>\n",
       "      <td>5.0</td>\n",
       "      <td>5.0</td>\n",
       "      <td>3.0</td>\n",
       "      <td>1.0</td>\n",
       "      <td>2.0</td>\n",
       "      <td>3.415385</td>\n",
       "      <td>2.904762</td>\n",
       "      <td>4</td>\n",
       "    </tr>\n",
       "  </tbody>\n",
       "</table>\n",
       "</div>"
      ],
      "text/plain": [
       "      user  movie     Gavg  ur1  ur2  ur3  ur4  ur5  mr1  mr2  mr3  mr4  mr5  \\\n",
       "0  1248029      1  3.55972  3.0  3.0  3.0  3.0  3.0  4.0  3.0  4.0  5.0  3.0   \n",
       "1   209104   4501  3.55972  4.0  3.0  2.0  1.0  1.0  2.0  3.0  5.0  5.0  5.0   \n",
       "2   343411   4501  3.55972  1.0  4.0  5.0  4.0  1.0  5.0  5.0  5.0  3.0  5.0   \n",
       "3   368124   4501  3.55972  5.0  4.0  2.0  3.0  4.0  5.0  3.0  4.0  4.0  3.0   \n",
       "4   592691   4501  3.55972  3.0  2.0  3.0  3.0  1.0  5.0  5.0  3.0  1.0  2.0   \n",
       "\n",
       "       Uavg      Mavg  rating  \n",
       "0  3.254777  3.000000       3  \n",
       "1  4.612903  2.904762       2  \n",
       "2  4.625000  2.904762       5  \n",
       "3  3.142857  2.904762       3  \n",
       "4  3.415385  2.904762       4  "
      ]
     },
     "execution_count": 1,
     "metadata": {},
     "output_type": "execute_result"
    }
   ],
   "source": [
    "import pandas as pd\n",
    "\n",
    "xtrain = pd.read_csv('trFeat.csv', names = ['user', 'movie', 'Gavg', 'ur1', 'ur2', 'ur3', 'ur4', \n",
    "                        'ur5','mr1', 'mr2', 'mr3', 'mr4', 'mr5', 'Uavg', 'Mavg', 'rating'], header=None )\n",
    "\n",
    "print( xtrain.shape )\n",
    "xtrain.head()"
   ]
  },
  {
   "cell_type": "code",
   "execution_count": null,
   "metadata": {
    "collapsed": true
   },
   "outputs": [],
   "source": []
  },
  {
   "cell_type": "code",
   "execution_count": 35,
   "metadata": {
    "collapsed": true
   },
   "outputs": [],
   "source": [
    "# Getting users, movies and ratings from the Sampled Test \n",
    "\n",
    "teSU, teSM, teSR = sparse.find( teSample )"
   ]
  },
  {
   "cell_type": "code",
   "execution_count": 36,
   "metadata": {},
   "outputs": [
    {
     "name": "stdout",
     "output_type": "stream",
     "text": [
      " Featurizing Test : Preparing for  24595  rows \n"
     ]
    }
   ],
   "source": [
    "print(' Featurizing Test : Preparing for ', len(teSM), ' rows ' )"
   ]
  },
  {
   "cell_type": "code",
   "execution_count": 38,
   "metadata": {},
   "outputs": [
    {
     "name": "stdout",
     "output_type": "stream",
     "text": [
      "< 5000 rows 0:20:14.560246 >           < 10000 rows 0:40:39.384196 >           < 15000 rows 1:01:08.332999 >           \n",
      "< 20000 rows 1:21:29.563239 >            Total Time Taken :  1:40:12.510340\n"
     ]
    }
   ],
   "source": [
    "# Featurizing Test data\n",
    "\n",
    "start = datetime.now()\n",
    "\n",
    "with open('teFeat.csv', mode='w') as teFeat:\n",
    "    count = 0 \n",
    "    c1 = 0\n",
    "    \n",
    "    for (user, movie, rating)  in zip( teSU, teSM, teSR ):\n",
    "        st = datetime.now()\n",
    "\n",
    "    #  Ratings of MOVIE by similar users of USER ------------------------------------------------------\n",
    "        #print(user, movie)\n",
    "        try:\n",
    "            # Computing similar Users of the \"user\"        \n",
    "            userSim = cosine_similarity( trSample[user], trSample ).ravel()\n",
    "            topSimU = userSim.argsort()[ ::-1 ][1:] \n",
    "            \n",
    "            # Getting the ratings of most similar users for this movie\n",
    "            topR = trSample[ topSimU, movie ].toarray().ravel()\n",
    "            topSimUR = list( topR [topR != 0 ][:5] )\n",
    "            # We make it's length \"5\" by adding movie averages\n",
    "                \n",
    "            topSimUR.extend([ trSampleAvg['movie'][movie] ]*( 5 - len(topSimUR) ))\n",
    "\n",
    "        # -------- Cold Start Problem -----------\n",
    "        # It can be a new User or new Movie or there are no ratings for given user for top similar movies\n",
    "        except (IndexError, KeyError):\n",
    "            \n",
    "            topSimUR.extend( [ trSampleAvg['global'] ] * ( 5 - len(topSimUR) ))\n",
    "            #print(top_sim_users_ratings)\n",
    "        except:\n",
    "            print(user, movie)\n",
    "            raise\n",
    "\n",
    "\n",
    "\n",
    "    # Ratings by USER  to similar movies of MOVIE ------------------------------------------------------\n",
    "        try:\n",
    "            # Computing similar movies of the MOVIE        \n",
    "            movieSim = cosine_similarity( trSample[ :,movie].T, trSample.T ).ravel()\n",
    "            topSimM = movieSim.argsort()[::-1][1:] \n",
    "            \n",
    "            # Getting the ratings of most similar movie rated by this user.\n",
    "            topR = trSample[ user, topSimM ].toarray().ravel()\n",
    "            topSimMR = list( topR[ topR != 0 ][:5] )\n",
    "            \n",
    "            topSimMR.extend( [ trSampleAvg['user'][user] ] * ( 5 - len(topSimMR) )) \n",
    "        \n",
    "        except (IndexError, KeyError):\n",
    "            topSimMR.extend( [ trSampleAvg['global'] ] * ( 5 - len(topSimMR) ))\n",
    "        except :\n",
    "            raise\n",
    "\n",
    "    # Storing Data to a .csv file -----------------------------------------------------\n",
    "        row = list()\n",
    "        # Adding user and movie name \n",
    "        row.append(user)\n",
    "        row.append(movie)\n",
    "       \n",
    "        # First feature\n",
    "        row.append( trSampleAvg['global'] ) \n",
    "\n",
    "        # Next 5 features are similar users MOVIE ratings\n",
    "        row.extend( topSimUR )\n",
    "        \n",
    "        # Next 5 features are USER ratings for similar movies\n",
    "        row.extend( topSimMR )\n",
    "        \n",
    "        # Avg_user rating\n",
    "        try:\n",
    "            row.append( trSampleAvg['user'][user] )\n",
    "        except KeyError:\n",
    "            row.append( trSampleAvg['global'] )\n",
    "        except:\n",
    "            raise\n",
    "        \n",
    "        # Avg_movie rating\n",
    "        try:\n",
    "            row.append( trSampleAvg['movie'][movie])\n",
    "        except KeyError:\n",
    "            row.append( trSampleAvg['global'])\n",
    "        except:\n",
    "            raise\n",
    "        \n",
    "        # The actual Rating of this user-movie pair.\n",
    "        row.append(rating)\n",
    "        \n",
    "        # Adding rows to the file opened\n",
    "        teFeat.write( ','.join( map(str, row) ))\n",
    "        teFeat.write('\\n')\n",
    "        \n",
    "        count += 1\n",
    "\n",
    "               \n",
    "        if (count) % 5000 == 0:\n",
    "            print( '<',count,'rows', datetime.now() - start, '>', end='           ')\n",
    "            \n",
    "            c1 += 1\n",
    "            if c1 == 3:\n",
    "                print('\\n',end='')\n",
    "                c1 = 0\n",
    "\n",
    "print(' Total Time Taken : ', datetime.now() - start )"
   ]
  },
  {
   "cell_type": "code",
   "execution_count": 2,
   "metadata": {},
   "outputs": [
    {
     "name": "stdout",
     "output_type": "stream",
     "text": [
      "(24595, 16)\n"
     ]
    },
    {
     "data": {
      "text/html": [
       "<div>\n",
       "<style scoped>\n",
       "    .dataframe tbody tr th:only-of-type {\n",
       "        vertical-align: middle;\n",
       "    }\n",
       "\n",
       "    .dataframe tbody tr th {\n",
       "        vertical-align: top;\n",
       "    }\n",
       "\n",
       "    .dataframe thead th {\n",
       "        text-align: right;\n",
       "    }\n",
       "</style>\n",
       "<table border=\"1\" class=\"dataframe\">\n",
       "  <thead>\n",
       "    <tr style=\"text-align: right;\">\n",
       "      <th></th>\n",
       "      <th>user</th>\n",
       "      <th>movie</th>\n",
       "      <th>Gavg</th>\n",
       "      <th>ur1</th>\n",
       "      <th>ur2</th>\n",
       "      <th>ur3</th>\n",
       "      <th>ur4</th>\n",
       "      <th>ur5</th>\n",
       "      <th>mr1</th>\n",
       "      <th>mr2</th>\n",
       "      <th>mr3</th>\n",
       "      <th>mr4</th>\n",
       "      <th>mr5</th>\n",
       "      <th>Uavg</th>\n",
       "      <th>Mavg</th>\n",
       "      <th>rating</th>\n",
       "    </tr>\n",
       "  </thead>\n",
       "  <tbody>\n",
       "    <tr>\n",
       "      <th>0</th>\n",
       "      <td>518079</td>\n",
       "      <td>4501</td>\n",
       "      <td>3.55972</td>\n",
       "      <td>3.0</td>\n",
       "      <td>3.0</td>\n",
       "      <td>4.0</td>\n",
       "      <td>1.0</td>\n",
       "      <td>1.0</td>\n",
       "      <td>3.55972</td>\n",
       "      <td>3.55972</td>\n",
       "      <td>3.55972</td>\n",
       "      <td>3.55972</td>\n",
       "      <td>3.55972</td>\n",
       "      <td>3.55972</td>\n",
       "      <td>2.904762</td>\n",
       "      <td>1</td>\n",
       "    </tr>\n",
       "    <tr>\n",
       "      <th>1</th>\n",
       "      <td>1255155</td>\n",
       "      <td>4501</td>\n",
       "      <td>3.55972</td>\n",
       "      <td>3.0</td>\n",
       "      <td>3.0</td>\n",
       "      <td>4.0</td>\n",
       "      <td>1.0</td>\n",
       "      <td>1.0</td>\n",
       "      <td>3.55972</td>\n",
       "      <td>3.55972</td>\n",
       "      <td>3.55972</td>\n",
       "      <td>3.55972</td>\n",
       "      <td>3.55972</td>\n",
       "      <td>3.55972</td>\n",
       "      <td>2.904762</td>\n",
       "      <td>2</td>\n",
       "    </tr>\n",
       "    <tr>\n",
       "      <th>2</th>\n",
       "      <td>1436160</td>\n",
       "      <td>4501</td>\n",
       "      <td>3.55972</td>\n",
       "      <td>3.0</td>\n",
       "      <td>3.0</td>\n",
       "      <td>4.0</td>\n",
       "      <td>1.0</td>\n",
       "      <td>1.0</td>\n",
       "      <td>3.55972</td>\n",
       "      <td>3.55972</td>\n",
       "      <td>3.55972</td>\n",
       "      <td>3.55972</td>\n",
       "      <td>3.55972</td>\n",
       "      <td>3.55972</td>\n",
       "      <td>2.904762</td>\n",
       "      <td>2</td>\n",
       "    </tr>\n",
       "    <tr>\n",
       "      <th>3</th>\n",
       "      <td>1487832</td>\n",
       "      <td>4501</td>\n",
       "      <td>3.55972</td>\n",
       "      <td>3.0</td>\n",
       "      <td>3.0</td>\n",
       "      <td>4.0</td>\n",
       "      <td>1.0</td>\n",
       "      <td>1.0</td>\n",
       "      <td>3.55972</td>\n",
       "      <td>3.55972</td>\n",
       "      <td>3.55972</td>\n",
       "      <td>3.55972</td>\n",
       "      <td>3.55972</td>\n",
       "      <td>3.55972</td>\n",
       "      <td>2.904762</td>\n",
       "      <td>3</td>\n",
       "    </tr>\n",
       "    <tr>\n",
       "      <th>4</th>\n",
       "      <td>1664010</td>\n",
       "      <td>4501</td>\n",
       "      <td>3.55972</td>\n",
       "      <td>3.0</td>\n",
       "      <td>3.0</td>\n",
       "      <td>4.0</td>\n",
       "      <td>1.0</td>\n",
       "      <td>1.0</td>\n",
       "      <td>3.55972</td>\n",
       "      <td>3.55972</td>\n",
       "      <td>3.55972</td>\n",
       "      <td>3.55972</td>\n",
       "      <td>3.55972</td>\n",
       "      <td>3.55972</td>\n",
       "      <td>2.904762</td>\n",
       "      <td>5</td>\n",
       "    </tr>\n",
       "  </tbody>\n",
       "</table>\n",
       "</div>"
      ],
      "text/plain": [
       "      user  movie     Gavg  ur1  ur2  ur3  ur4  ur5      mr1      mr2  \\\n",
       "0   518079   4501  3.55972  3.0  3.0  4.0  1.0  1.0  3.55972  3.55972   \n",
       "1  1255155   4501  3.55972  3.0  3.0  4.0  1.0  1.0  3.55972  3.55972   \n",
       "2  1436160   4501  3.55972  3.0  3.0  4.0  1.0  1.0  3.55972  3.55972   \n",
       "3  1487832   4501  3.55972  3.0  3.0  4.0  1.0  1.0  3.55972  3.55972   \n",
       "4  1664010   4501  3.55972  3.0  3.0  4.0  1.0  1.0  3.55972  3.55972   \n",
       "\n",
       "       mr3      mr4      mr5     Uavg      Mavg  rating  \n",
       "0  3.55972  3.55972  3.55972  3.55972  2.904762       1  \n",
       "1  3.55972  3.55972  3.55972  3.55972  2.904762       2  \n",
       "2  3.55972  3.55972  3.55972  3.55972  2.904762       2  \n",
       "3  3.55972  3.55972  3.55972  3.55972  2.904762       3  \n",
       "4  3.55972  3.55972  3.55972  3.55972  2.904762       5  "
      ]
     },
     "execution_count": 2,
     "metadata": {},
     "output_type": "execute_result"
    }
   ],
   "source": [
    "xtest = pd.read_csv('teFeat.csv', names = ['user', 'movie', 'Gavg', 'ur1', 'ur2', 'ur3', 'ur4', \n",
    "                        'ur5','mr1', 'mr2', 'mr3', 'mr4', 'mr5', 'Uavg', 'Mavg', 'rating'], header=None)\n",
    "\n",
    "print( xtest.shape )\n",
    "xtest.head()"
   ]
  },
  {
   "cell_type": "markdown",
   "metadata": {},
   "source": [
    "## Applying various Models"
   ]
  },
  {
   "cell_type": "code",
   "execution_count": 3,
   "metadata": {},
   "outputs": [
    {
     "name": "stdout",
     "output_type": "stream",
     "text": [
      "(307965, 16)\n",
      "(76992, 16)\n"
     ]
    }
   ],
   "source": [
    "# Splitting Train in Train and CV for Hypeparameter Tuning\n",
    "\n",
    "xtr = xtrain.iloc[ : int( xtrain.shape[0]*0.80 ) ]\n",
    "\n",
    "xcv = xtrain.iloc[ int( xtrain.shape[0]*0.80 ) :  ]\n",
    "\n",
    "print( xtr.shape )\n",
    "print( xcv.shape )"
   ]
  },
  {
   "cell_type": "code",
   "execution_count": 3,
   "metadata": {
    "collapsed": true
   },
   "outputs": [],
   "source": [
    "import warnings\n",
    "\n",
    "warnings.filterwarnings('ignore')"
   ]
  },
  {
   "cell_type": "code",
   "execution_count": 5,
   "metadata": {
    "collapsed": true
   },
   "outputs": [],
   "source": [
    "ytr = xtr['rating']\n",
    "ycv = xcv['rating']\n",
    "\n",
    "xtr.drop( ['rating'], axis = 1, inplace = True )\n",
    "xcv.drop( ['rating'], axis = 1, inplace = True )"
   ]
  },
  {
   "cell_type": "code",
   "execution_count": 3,
   "metadata": {
    "collapsed": true
   },
   "outputs": [],
   "source": [
    "import numpy as np\n",
    "\n",
    "def MSE( ytrue, ypred ):\n",
    "    \n",
    "    rmse = np.sqrt( np.mean( [ (ytrue[i] - ypred[i])**2 for i in range( len(ypred) ) ] ))\n",
    "    mape = np.mean( np.abs( ( ytrue - ypred ) / ytrue ) ) * 100\n",
    "    \n",
    "    return rmse, mape"
   ]
  },
  {
   "cell_type": "markdown",
   "metadata": {},
   "source": [
    "### XG Boost "
   ]
  },
  {
   "cell_type": "code",
   "execution_count": 7,
   "metadata": {},
   "outputs": [
    {
     "name": "stdout",
     "output_type": "stream",
     "text": [
      "For max_depth =  3  and n_estimators =  50  RMSE Train :  0.8655590392826505  and RMSE CV :  0.8615866037155404\n",
      "For max_depth =  3  and n_estimators =  100  RMSE Train :  0.860523412687906  and RMSE CV :  0.8577664240991663\n",
      "For max_depth =  3  and n_estimators =  200  RMSE Train :  0.8582277425435737  and RMSE CV :  0.8591617975636558\n",
      "For max_depth =  3  and n_estimators =  400  RMSE Train :  0.8556372149464749  and RMSE CV :  0.8671197888438474\n",
      "For max_depth =  3  and n_estimators =  600  RMSE Train :  0.8536008162019654  and RMSE CV :  0.8694565284534929\n",
      "For max_depth =  6  and n_estimators =  50  RMSE Train :  0.8532050409628237  and RMSE CV :  0.8564505964867412\n",
      "For max_depth =  6  and n_estimators =  100  RMSE Train :  0.8467222528423819  and RMSE CV :  0.8586875106024636\n",
      "For max_depth =  6  and n_estimators =  200  RMSE Train :  0.8383213924082643  and RMSE CV :  0.8724012794368124\n",
      "For max_depth =  6  and n_estimators =  400  RMSE Train :  0.8243911023534649  and RMSE CV :  0.8807196424312722\n",
      "For max_depth =  6  and n_estimators =  600  RMSE Train :  0.8124493707037961  and RMSE CV :  0.882728365468536\n",
      "For max_depth =  11  and n_estimators =  50  RMSE Train :  0.7662235011034227  and RMSE CV :  0.8670948499809547\n",
      "For max_depth =  11  and n_estimators =  100  RMSE Train :  0.7357616451502128  and RMSE CV :  0.875018937790962\n",
      "For max_depth =  11  and n_estimators =  200  RMSE Train :  0.6904461440889615  and RMSE CV :  0.8827616155585273\n",
      "For max_depth =  11  and n_estimators =  400  RMSE Train :  0.607987621220917  and RMSE CV :  0.8892388891757962\n",
      "For max_depth =  11  and n_estimators =  600  RMSE Train :  0.5487651176099229  and RMSE CV :  0.8945151988173013\n",
      "For max_depth =  51  and n_estimators =  50  RMSE Train :  0.05855442071147618  and RMSE CV :  0.9514539546418556\n",
      "For max_depth =  51  and n_estimators =  200  RMSE Train :  0.000584538469338556  and RMSE CV :  0.9411915750643928\n",
      "For max_depth =  51  and n_estimators =  400  RMSE Train :  0.0005856300978955292  and RMSE CV :  0.9411912181940086\n",
      "For max_depth =  51  and n_estimators =  600  RMSE Train :  0.0005863179445374461  and RMSE CV :  0.9411911890787694\n"
     ]
    }
   ],
   "source": [
    "import xgboost as xgb\n",
    "\n",
    "depth = [ 3, 6, 11, 51 ]\n",
    "estimator = [ 50, 100, 200, 400, 600 ]\n",
    "\n",
    "for i in depth:\n",
    "    for j in estimator:\n",
    "        \n",
    "        xg = xgb.XGBRegressor( max_depth = i, n_estimators = j, objective = 'reg:squarederror', nthread=4 )\n",
    "        xg.fit( xtr, ytr )\n",
    "\n",
    "        ytrpred = xg.predict(xtr)\n",
    "        trmse, _ = MSE( ytr.values, ytrpred )\n",
    "        \n",
    "        ycvpred = xg.predict(xcv)\n",
    "        cvmse, _ = MSE( ycv.values, ycvpred )\n",
    "\n",
    "        print('For max_depth = ',i,' and n_estimators = ',j,' RMSE Train : ',trmse, ' and RMSE CV : ',cvmse )"
   ]
  },
  {
   "cell_type": "code",
   "execution_count": 7,
   "metadata": {
    "collapsed": true
   },
   "outputs": [],
   "source": [
    "ytrain = xtrain['rating']\n",
    "ytest = xtest['rating']\n",
    "\n",
    "xtrain.drop( ['rating'], axis = 1, inplace = True )\n",
    "xtest.drop( ['rating'], axis = 1, inplace = True )"
   ]
  },
  {
   "cell_type": "code",
   "execution_count": 13,
   "metadata": {},
   "outputs": [
    {
     "name": "stdout",
     "output_type": "stream",
     "text": [
      " Train RMSE :  0.8597393086289866  MAPE :  25.902818224288694\n",
      " Test RMSE :  1.0984148792971453  MAPE :  33.520885069381414\n"
     ]
    }
   ],
   "source": [
    "D = 3\n",
    "N = 100\n",
    "\n",
    "xg = xgb.XGBRegressor( max_depth = D, n_estimators = N, objective = 'reg:squarederror', nthread=4 )\n",
    "xg.fit( xtrain, ytrain )\n",
    "\n",
    "ytrpred = xg.predict(xtrain)\n",
    "ytepred = xg.predict(xtest)\n",
    "\n",
    "rmsetr, mapetr = MSE( ytrain, ytrpred )\n",
    "rmsete, mapete = MSE( ytest, ytepred )\n",
    "print(' Train RMSE : ',rmsetr , ' MAPE : ',mapetr  )\n",
    "print(' Test RMSE : ',rmsete , ' MAPE : ',mapete  )"
   ]
  },
  {
   "cell_type": "code",
   "execution_count": 23,
   "metadata": {},
   "outputs": [
    {
     "data": {
      "image/png": "[encoded data removed]",
      "text/plain": [
       "<Figure size 1152x504 with 1 Axes>"
      ]
     },
     "metadata": {
      "needs_background": "light"
     },
     "output_type": "display_data"
    }
   ],
   "source": [
    "import matplotlib.pyplot as plt\n",
    "\n",
    "fig, ax = plt.subplots(figsize=(16, 7))\n",
    "\n",
    "xgb.plot_importance( xg, ax=ax )\n",
    "plt.show()"
   ]
  },
  {
   "cell_type": "code",
   "execution_count": null,
   "metadata": {
    "collapsed": true
   },
   "outputs": [],
   "source": []
  },
  {
   "cell_type": "code",
   "execution_count": 4,
   "metadata": {
    "collapsed": true
   },
   "outputs": [],
   "source": [
    "from surprise import Reader, Dataset\n",
    "# pip3 install scikit-surprise"
   ]
  },
  {
   "cell_type": "markdown",
   "metadata": {},
   "source": [
    "Surprise is a Python scikit building and analyzing recommender systems.\n",
    "\n",
    "The name SurPRISE (roughly :) ) stands for Simple Python RecommendatIon System Engine.\n",
    "\n",
    "    -- We can't give raw data (movie, user, rating) to train the model in Surprise library.\n",
    "    -- They have a saperate format for TRAIN and TEST data, which will be useful for training the models like SVD,    '\n",
    "         KNNBaseLineOnly....etc..,in Surprise.\n",
    "    -- We can form the trainset from a file, or from a Pandas DataFrame.\n",
    "  \n",
    "To load a dataset from a pandas dataframe, you will need the load_from_df() method.<br> You will also need a Reader object, but only the rating_scale parameter must be specified.<br> The dataframe must have three columns, corresponding to the user (raw) ids, the item (raw) ids, and the ratings in this order. Each row thus corresponds to a given rating. This is not restrictive as you can reorder the columns of your dataframe easily.\n",
    "\n",
    "<i> Ref : https://surprise.readthedocs.io/en/stable/getting_started.html#load-dom-dataframe-py"
   ]
  },
  {
   "cell_type": "code",
   "execution_count": 5,
   "metadata": {
    "collapsed": true
   },
   "outputs": [],
   "source": [
    "reader = Reader(rating_scale=(1,5))\n",
    "\n",
    "# Creating Train data \n",
    "trData = Dataset.load_from_df( xtrain[['user', 'movie', 'rating']], reader ) \n",
    "\n",
    "# Build the trainset from traindata.., It is of dataset format from surprise library..\n",
    "trainSet = trData.build_full_trainset() "
   ]
  },
  {
   "cell_type": "code",
   "execution_count": 6,
   "metadata": {},
   "outputs": [
    {
     "name": "stdout",
     "output_type": "stream",
     "text": [
      "<surprise.dataset.DatasetAutoFolds object at 0x7f4a9cca6da0>\n",
      "<surprise.trainset.Trainset object at 0x7f4a816b97b8>\n"
     ]
    }
   ],
   "source": [
    "print( trData )\n",
    "print( trainSet )"
   ]
  },
  {
   "cell_type": "code",
   "execution_count": 7,
   "metadata": {},
   "outputs": [
    {
     "data": {
      "text/plain": [
       "[(518079, 4501, 1), (1255155, 4501, 2), (1436160, 4501, 2)]"
      ]
     },
     "execution_count": 7,
     "metadata": {},
     "output_type": "execute_result"
    }
   ],
   "source": [
    "# Testset is just a list of (user, movie, rating) tuples. (Order in the tuple is impotant)\n",
    "testSet = list( zip( xtest.user.values, xtest.movie.values, xtest.rating.values ) )\n",
    "testSet[:3]"
   ]
  },
  {
   "cell_type": "code",
   "execution_count": null,
   "metadata": {
    "collapsed": true
   },
   "outputs": [],
   "source": []
  },
  {
   "cell_type": "code",
   "execution_count": 8,
   "metadata": {
    "collapsed": true
   },
   "outputs": [],
   "source": [
    "from datetime import datetime"
   ]
  },
  {
   "cell_type": "markdown",
   "metadata": {},
   "source": [
    "### Surprise Baseline \n",
    "Algorithm predicting the baseline estimate for given user and item.\n",
    "\n",
    "\n",
    "\n",
    "<b> Predicted_rating : ( baseline prediction ) </b>\n",
    "\n",
    " >$   \\large {\\hat{r}_{ui} = b_{ui} =\\mu + b_u + b_i} $\n",
    "\n",
    "\n",
    "- $\\pmb \\mu $ : Average of all trainings in training data.\n",
    "- $\\pmb b_u$ : User bias\n",
    "- $\\pmb b_i$ : Item bias (movie biases) \n",
    "\n",
    "\n",
    "<b>Optimization function ( Least Squares Problem )</b>\n",
    "\n",
    "\n",
    "> $ \\large \\sum_{r_{ui} \\in R_{train}} \\left(r_{ui} - (\\mu + b_u + b_i)\\right)^2 +\n",
    "\\lambda \\left(b_u^2 + b_i^2 \\right).\\text {        [mimimize } {b_u, b_i]}$ \n",
    "    \n",
    "<i> Ref : http://surprise.readthedocs.io/en/stable/basic_algorithms.html#surprise.prediction_algorithms.baseline_only.BaselineOnly \n",
    "\n",
    "Ref : http://surprise.readthedocs.io/en/stable/prediction_algorithms.html#baselines-estimates-configuration \n"
   ]
  },
  {
   "cell_type": "code",
   "execution_count": 9,
   "metadata": {},
   "outputs": [
    {
     "name": "stdout",
     "output_type": "stream",
     "text": [
      "Estimating biases using sgd...\n"
     ]
    },
    {
     "data": {
      "text/plain": [
       "<surprise.prediction_algorithms.baseline_only.BaselineOnly at 0x7f4abbe47240>"
      ]
     },
     "execution_count": 9,
     "metadata": {},
     "output_type": "execute_result"
    }
   ],
   "source": [
    "from surprise import BaselineOnly \n",
    "import numpy as np\n",
    "\n",
    "# option specify, how to compute those user and item biases\n",
    "option = { 'method': 'sgd', 'learning_rate': .001 }\n",
    "\n",
    "baseline = BaselineOnly( bsl_options = option )\n",
    "\n",
    "start = datetime.now()\n",
    "\n",
    "baseline.fit(trainSet)\n",
    "\n",
    "# bsl_options (dict) – A dictionary of options for the baseline estimates computation."
   ]
  },
  {
   "cell_type": "code",
   "execution_count": 10,
   "metadata": {
    "collapsed": true
   },
   "outputs": [],
   "source": [
    "train = dict()\n",
    "test = dict()"
   ]
  },
  {
   "cell_type": "code",
   "execution_count": 11,
   "metadata": {},
   "outputs": [
    {
     "name": "stdout",
     "output_type": "stream",
     "text": [
      " Train RMSE :  0.927338816934701  MAPE :  29.039347590891612\n",
      " Test RMSE :  1.0773974064884757  MAPE :  34.08602284148823\n",
      "\n",
      " Time Taken :  0:00:13.214723\n"
     ]
    }
   ],
   "source": [
    "# Evaluating train data --------------------------------------------------------\n",
    "\n",
    "# Getting Train Predictions (list of prediction class inside Surprise)\n",
    "trPred = baseline.test( trainSet.build_testset() )\n",
    "\n",
    "# Getting Predicted ratings form Train Predictions\n",
    "trActualR = np.array([pred.r_ui for pred in trPred])\n",
    "trPredR = np.array([pred.est for pred in trPred])\n",
    "\n",
    "# Calculating RMSE and MAPE\n",
    "trrmse = np.sqrt( np.mean(( trPredR - trActualR )**2 ) )\n",
    "trmape = np.mean( np.abs( trPredR - trActualR ) / trActualR ) * 100\n",
    "\n",
    "train['rmse'] = trrmse\n",
    "train['mape'] = trmape\n",
    "train['predictions'] = trPredR\n",
    "\n",
    "print(' Train RMSE : ', trrmse, ' MAPE : ', trmape)\n",
    "\n",
    "# Evaluating Test data ---------------------------------------------------------\n",
    "\n",
    "# Getting Test Predictions (list of prediction class of test data )\n",
    "tePred = baseline.test( testSet )\n",
    "\n",
    "# Getting Predicted ratings form list of Predictions\n",
    "teActualR = np.array( [ pred.r_ui for pred in tePred ])\n",
    "tePredR = np.array( [ pred.est for pred in tePred ])\n",
    "\n",
    "# Calculating RMSE and MAPE\n",
    "termse = np.sqrt( np.mean(( tePredR - teActualR )**2 ) )\n",
    "temape = np.mean( np.abs( tePredR - teActualR ) / teActualR ) * 100\n",
    "\n",
    "test['rmse'] = termse\n",
    "test['mape'] = temape\n",
    "test['predictions'] = tePredR\n",
    "\n",
    "print(' Test RMSE : ', termse, ' MAPE : ', temape)\n",
    "\n",
    "print('\\n Time Taken : ', datetime.now() - start )"
   ]
  },
  {
   "cell_type": "code",
   "execution_count": 12,
   "metadata": {},
   "outputs": [
    {
     "data": {
      "text/plain": [
       "array([3.17054284, 3.19283447, 3.62998471, ..., 3.91712823, 2.71384854,\n",
       "       2.71386777])"
      ]
     },
     "execution_count": 12,
     "metadata": {},
     "output_type": "execute_result"
    }
   ],
   "source": [
    "train['predictions']"
   ]
  },
  {
   "cell_type": "code",
   "execution_count": 13,
   "metadata": {},
   "outputs": [
    {
     "data": {
      "text/html": [
       "<div>\n",
       "<style scoped>\n",
       "    .dataframe tbody tr th:only-of-type {\n",
       "        vertical-align: middle;\n",
       "    }\n",
       "\n",
       "    .dataframe tbody tr th {\n",
       "        vertical-align: top;\n",
       "    }\n",
       "\n",
       "    .dataframe thead th {\n",
       "        text-align: right;\n",
       "    }\n",
       "</style>\n",
       "<table border=\"1\" class=\"dataframe\">\n",
       "  <thead>\n",
       "    <tr style=\"text-align: right;\">\n",
       "      <th></th>\n",
       "      <th>user</th>\n",
       "      <th>movie</th>\n",
       "      <th>Gavg</th>\n",
       "      <th>ur1</th>\n",
       "      <th>ur2</th>\n",
       "      <th>ur3</th>\n",
       "      <th>ur4</th>\n",
       "      <th>ur5</th>\n",
       "      <th>mr1</th>\n",
       "      <th>mr2</th>\n",
       "      <th>mr3</th>\n",
       "      <th>mr4</th>\n",
       "      <th>mr5</th>\n",
       "      <th>Uavg</th>\n",
       "      <th>Mavg</th>\n",
       "      <th>rating</th>\n",
       "      <th>BaselinePred</th>\n",
       "    </tr>\n",
       "  </thead>\n",
       "  <tbody>\n",
       "    <tr>\n",
       "      <th>0</th>\n",
       "      <td>1248029</td>\n",
       "      <td>1</td>\n",
       "      <td>3.55972</td>\n",
       "      <td>3.0</td>\n",
       "      <td>3.0</td>\n",
       "      <td>3.0</td>\n",
       "      <td>3.0</td>\n",
       "      <td>3.0</td>\n",
       "      <td>4.0</td>\n",
       "      <td>3.0</td>\n",
       "      <td>4.0</td>\n",
       "      <td>5.0</td>\n",
       "      <td>3.0</td>\n",
       "      <td>3.254777</td>\n",
       "      <td>3.000000</td>\n",
       "      <td>3</td>\n",
       "      <td>3.170543</td>\n",
       "    </tr>\n",
       "    <tr>\n",
       "      <th>1</th>\n",
       "      <td>209104</td>\n",
       "      <td>4501</td>\n",
       "      <td>3.55972</td>\n",
       "      <td>4.0</td>\n",
       "      <td>3.0</td>\n",
       "      <td>2.0</td>\n",
       "      <td>1.0</td>\n",
       "      <td>1.0</td>\n",
       "      <td>2.0</td>\n",
       "      <td>3.0</td>\n",
       "      <td>5.0</td>\n",
       "      <td>5.0</td>\n",
       "      <td>5.0</td>\n",
       "      <td>4.612903</td>\n",
       "      <td>2.904762</td>\n",
       "      <td>2</td>\n",
       "      <td>3.192834</td>\n",
       "    </tr>\n",
       "    <tr>\n",
       "      <th>2</th>\n",
       "      <td>343411</td>\n",
       "      <td>4501</td>\n",
       "      <td>3.55972</td>\n",
       "      <td>1.0</td>\n",
       "      <td>4.0</td>\n",
       "      <td>5.0</td>\n",
       "      <td>4.0</td>\n",
       "      <td>1.0</td>\n",
       "      <td>5.0</td>\n",
       "      <td>5.0</td>\n",
       "      <td>5.0</td>\n",
       "      <td>3.0</td>\n",
       "      <td>5.0</td>\n",
       "      <td>4.625000</td>\n",
       "      <td>2.904762</td>\n",
       "      <td>5</td>\n",
       "      <td>3.629985</td>\n",
       "    </tr>\n",
       "  </tbody>\n",
       "</table>\n",
       "</div>"
      ],
      "text/plain": [
       "      user  movie     Gavg  ur1  ur2  ur3  ur4  ur5  mr1  mr2  mr3  mr4  mr5  \\\n",
       "0  1248029      1  3.55972  3.0  3.0  3.0  3.0  3.0  4.0  3.0  4.0  5.0  3.0   \n",
       "1   209104   4501  3.55972  4.0  3.0  2.0  1.0  1.0  2.0  3.0  5.0  5.0  5.0   \n",
       "2   343411   4501  3.55972  1.0  4.0  5.0  4.0  1.0  5.0  5.0  5.0  3.0  5.0   \n",
       "\n",
       "       Uavg      Mavg  rating  BaselinePred  \n",
       "0  3.254777  3.000000       3      3.170543  \n",
       "1  4.612903  2.904762       2      3.192834  \n",
       "2  4.625000  2.904762       5      3.629985  "
      ]
     },
     "execution_count": 13,
     "metadata": {},
     "output_type": "execute_result"
    }
   ],
   "source": [
    "# Adding Baseline Predicted ratoings as feature in Train data\n",
    "\n",
    "xtrain['BaselinePred'] = train['predictions']\n",
    "\n",
    "xtrain.head(3)"
   ]
  },
  {
   "cell_type": "code",
   "execution_count": 14,
   "metadata": {},
   "outputs": [
    {
     "data": {
      "text/html": [
       "<div>\n",
       "<style scoped>\n",
       "    .dataframe tbody tr th:only-of-type {\n",
       "        vertical-align: middle;\n",
       "    }\n",
       "\n",
       "    .dataframe tbody tr th {\n",
       "        vertical-align: top;\n",
       "    }\n",
       "\n",
       "    .dataframe thead th {\n",
       "        text-align: right;\n",
       "    }\n",
       "</style>\n",
       "<table border=\"1\" class=\"dataframe\">\n",
       "  <thead>\n",
       "    <tr style=\"text-align: right;\">\n",
       "      <th></th>\n",
       "      <th>user</th>\n",
       "      <th>movie</th>\n",
       "      <th>Gavg</th>\n",
       "      <th>ur1</th>\n",
       "      <th>ur2</th>\n",
       "      <th>ur3</th>\n",
       "      <th>ur4</th>\n",
       "      <th>ur5</th>\n",
       "      <th>mr1</th>\n",
       "      <th>mr2</th>\n",
       "      <th>mr3</th>\n",
       "      <th>mr4</th>\n",
       "      <th>mr5</th>\n",
       "      <th>Uavg</th>\n",
       "      <th>Mavg</th>\n",
       "      <th>rating</th>\n",
       "      <th>BaselinePred</th>\n",
       "    </tr>\n",
       "  </thead>\n",
       "  <tbody>\n",
       "    <tr>\n",
       "      <th>0</th>\n",
       "      <td>518079</td>\n",
       "      <td>4501</td>\n",
       "      <td>3.55972</td>\n",
       "      <td>3.0</td>\n",
       "      <td>3.0</td>\n",
       "      <td>4.0</td>\n",
       "      <td>1.0</td>\n",
       "      <td>1.0</td>\n",
       "      <td>3.55972</td>\n",
       "      <td>3.55972</td>\n",
       "      <td>3.55972</td>\n",
       "      <td>3.55972</td>\n",
       "      <td>3.55972</td>\n",
       "      <td>3.55972</td>\n",
       "      <td>2.904762</td>\n",
       "      <td>1</td>\n",
       "      <td>3.392149</td>\n",
       "    </tr>\n",
       "    <tr>\n",
       "      <th>1</th>\n",
       "      <td>1255155</td>\n",
       "      <td>4501</td>\n",
       "      <td>3.55972</td>\n",
       "      <td>3.0</td>\n",
       "      <td>3.0</td>\n",
       "      <td>4.0</td>\n",
       "      <td>1.0</td>\n",
       "      <td>1.0</td>\n",
       "      <td>3.55972</td>\n",
       "      <td>3.55972</td>\n",
       "      <td>3.55972</td>\n",
       "      <td>3.55972</td>\n",
       "      <td>3.55972</td>\n",
       "      <td>3.55972</td>\n",
       "      <td>2.904762</td>\n",
       "      <td>2</td>\n",
       "      <td>3.392149</td>\n",
       "    </tr>\n",
       "    <tr>\n",
       "      <th>2</th>\n",
       "      <td>1436160</td>\n",
       "      <td>4501</td>\n",
       "      <td>3.55972</td>\n",
       "      <td>3.0</td>\n",
       "      <td>3.0</td>\n",
       "      <td>4.0</td>\n",
       "      <td>1.0</td>\n",
       "      <td>1.0</td>\n",
       "      <td>3.55972</td>\n",
       "      <td>3.55972</td>\n",
       "      <td>3.55972</td>\n",
       "      <td>3.55972</td>\n",
       "      <td>3.55972</td>\n",
       "      <td>3.55972</td>\n",
       "      <td>2.904762</td>\n",
       "      <td>2</td>\n",
       "      <td>3.392149</td>\n",
       "    </tr>\n",
       "  </tbody>\n",
       "</table>\n",
       "</div>"
      ],
      "text/plain": [
       "      user  movie     Gavg  ur1  ur2  ur3  ur4  ur5      mr1      mr2  \\\n",
       "0   518079   4501  3.55972  3.0  3.0  4.0  1.0  1.0  3.55972  3.55972   \n",
       "1  1255155   4501  3.55972  3.0  3.0  4.0  1.0  1.0  3.55972  3.55972   \n",
       "2  1436160   4501  3.55972  3.0  3.0  4.0  1.0  1.0  3.55972  3.55972   \n",
       "\n",
       "       mr3      mr4      mr5     Uavg      Mavg  rating  BaselinePred  \n",
       "0  3.55972  3.55972  3.55972  3.55972  2.904762       1      3.392149  \n",
       "1  3.55972  3.55972  3.55972  3.55972  2.904762       2      3.392149  \n",
       "2  3.55972  3.55972  3.55972  3.55972  2.904762       2      3.392149  "
      ]
     },
     "execution_count": 14,
     "metadata": {},
     "output_type": "execute_result"
    }
   ],
   "source": [
    "# Adding Baseline Predicted ratoings as feature in Test data\n",
    "\n",
    "xtest['BaselinePred'] = test['predictions']\n",
    "\n",
    "xtest.head(3)"
   ]
  },
  {
   "cell_type": "code",
   "execution_count": 15,
   "metadata": {},
   "outputs": [
    {
     "name": "stdout",
     "output_type": "stream",
     "text": [
      "(307965, 16)\n",
      "(76992, 16)\n"
     ]
    },
    {
     "name": "stderr",
     "output_type": "stream",
     "text": [
      "/usr/local/lib/python3.5/dist-packages/pandas/core/frame.py:3940: SettingWithCopyWarning: \n",
      "A value is trying to be set on a copy of a slice from a DataFrame\n",
      "\n",
      "See the caveats in the documentation: http://pandas.pydata.org/pandas-docs/stable/indexing.html#indexing-view-versus-copy\n",
      "  errors=errors)\n"
     ]
    }
   ],
   "source": [
    "# Splitting Train in Train and CV for Hypeparameter Tuning\n",
    "\n",
    "xtr = xtrain.iloc[ : int( xtrain.shape[0]*0.80 ) ]\n",
    "xcv = xtrain.iloc[ int( xtrain.shape[0]*0.80 ) :  ]\n",
    "\n",
    "ytr = xtr['rating']\n",
    "ycv = xcv['rating']\n",
    "\n",
    "xtr.drop( ['rating'], axis = 1, inplace = True )\n",
    "xcv.drop( ['rating'], axis = 1, inplace = True )\n",
    "\n",
    "print( xtr.shape )\n",
    "print( xcv.shape )"
   ]
  },
  {
   "cell_type": "code",
   "execution_count": 16,
   "metadata": {
    "collapsed": true
   },
   "outputs": [],
   "source": [
    "ytrain = xtrain['rating']\n",
    "ytest = xtest['rating']\n",
    "\n",
    "Xtrain = xtrain.drop( ['rating'], axis = 1 )\n",
    "Xtest = xtest.drop( ['rating'], axis = 1 )"
   ]
  },
  {
   "cell_type": "markdown",
   "metadata": {},
   "source": [
    "### XG Boost with Baseline Prediction as a feature"
   ]
  },
  {
   "cell_type": "code",
   "execution_count": 19,
   "metadata": {
    "collapsed": true
   },
   "outputs": [],
   "source": [
    "import xgboost as xgb\n",
    "\n",
    "def xg(xtr, ytr, xcv, ycv):\n",
    "\n",
    "    depth = [ 3, 6, 11 ]\n",
    "    estimator = [ 50, 100, 200, 400, 600 ]\n",
    "\n",
    "    for i in depth:\n",
    "        for j in estimator:\n",
    "\n",
    "            xg = xgb.XGBRegressor( max_depth = i, n_estimators = j, objective = 'reg:squarederror', nthread=4 )\n",
    "            xg.fit( xtr, ytr )\n",
    "\n",
    "            ytrpred = xg.predict(xtr)\n",
    "            trmse, _ = MSE( ytr.values, ytrpred )\n",
    "\n",
    "            ycvpred = xg.predict(xcv)\n",
    "            cvmse, _ = MSE( ycv.values, ycvpred )\n",
    "\n",
    "            print('For max_depth = ',i,' and n_estimators = ',j,' RMSE Train : ',trmse, ' and RMSE CV : ',cvmse )"
   ]
  },
  {
   "cell_type": "code",
   "execution_count": 19,
   "metadata": {},
   "outputs": [
    {
     "name": "stdout",
     "output_type": "stream",
     "text": [
      "For max_depth =  3  and n_estimators =  50  RMSE Train :  0.8655590392826505  and RMSE CV :  0.8615866037155404\n",
      "For max_depth =  3  and n_estimators =  100  RMSE Train :  0.8605557535355195  and RMSE CV :  0.8577222922194516\n",
      "For max_depth =  3  and n_estimators =  200  RMSE Train :  0.8582090483197052  and RMSE CV :  0.8582373510581508\n",
      "For max_depth =  3  and n_estimators =  400  RMSE Train :  0.8555469757323785  and RMSE CV :  0.8666894833284086\n",
      "For max_depth =  3  and n_estimators =  600  RMSE Train :  0.8533387070780282  and RMSE CV :  0.8673117123590017\n",
      "For max_depth =  6  and n_estimators =  50  RMSE Train :  0.8531891761825683  and RMSE CV :  0.8569812289972188\n",
      "For max_depth =  6  and n_estimators =  100  RMSE Train :  0.8465016179620632  and RMSE CV :  0.8580217983197156\n",
      "For max_depth =  6  and n_estimators =  200  RMSE Train :  0.838178949383096  and RMSE CV :  0.8682500840065843\n",
      "For max_depth =  6  and n_estimators =  400  RMSE Train :  0.8245606129035709  and RMSE CV :  0.8750731333980603\n",
      "For max_depth =  6  and n_estimators =  600  RMSE Train :  0.8123194744362139  and RMSE CV :  0.8757918665405823\n",
      "For max_depth =  11  and n_estimators =  50  RMSE Train :  0.7648594119709334  and RMSE CV :  0.867358909535125\n",
      "For max_depth =  11  and n_estimators =  100  RMSE Train :  0.731334764380325  and RMSE CV :  0.877637199983294\n",
      "For max_depth =  11  and n_estimators =  200  RMSE Train :  0.6905303794338634  and RMSE CV :  0.8917793561531298\n",
      "For max_depth =  11  and n_estimators =  400  RMSE Train :  0.6254228165324967  and RMSE CV :  0.8987477510062009\n",
      "For max_depth =  11  and n_estimators =  600  RMSE Train :  0.5617546650847367  and RMSE CV :  0.9047310954015964\n",
      "For max_depth =  51  and n_estimators =  50  RMSE Train :  0.054715533702722176  and RMSE CV :  0.9486253834575643\n",
      "For max_depth =  51  and n_estimators =  100  RMSE Train :  0.002000227037804811  and RMSE CV :  0.9387741002103583\n",
      "For max_depth =  51  and n_estimators =  200  RMSE Train :  0.0005393846059558509  and RMSE CV :  0.9385462832496728\n",
      "For max_depth =  51  and n_estimators =  400  RMSE Train :  0.0005406107667912702  and RMSE CV :  0.9385458780712065\n",
      "For max_depth =  51  and n_estimators =  600  RMSE Train :  0.0005413249784146382  and RMSE CV :  0.9385458443954052\n"
     ]
    }
   ],
   "source": [
    "xg( xtr, ytr, xcv, ycv )"
   ]
  },
  {
   "cell_type": "code",
   "execution_count": 24,
   "metadata": {},
   "outputs": [
    {
     "name": "stdout",
     "output_type": "stream",
     "text": [
      " Train RMSE :  0.8597361720200826  MAPE :  25.903243112822093\n",
      " Test RMSE :  1.0984120479548696  MAPE :  33.51931264259599\n"
     ]
    }
   ],
   "source": [
    "D = 3\n",
    "N = 100\n",
    "\n",
    "xg = xgb.XGBRegressor( max_depth = D, n_estimators = N, objective = 'reg:squarederror', nthread=4 )\n",
    "xg.fit( Xtrain, ytrain )\n",
    "\n",
    "ytrpred = xg.predict(Xtrain)\n",
    "ytepred = xg.predict(Xtest)\n",
    "\n",
    "rmsetr, mapetr = MSE( ytrain, ytrpred )\n",
    "rmsete, mapete = MSE( ytest, ytepred )\n",
    "print(' Train RMSE : ',rmsetr , ' MAPE : ',mapetr  )\n",
    "print(' Test RMSE : ',rmsete , ' MAPE : ',mapete  )"
   ]
  },
  {
   "cell_type": "code",
   "execution_count": null,
   "metadata": {
    "collapsed": true
   },
   "outputs": [],
   "source": [
    "import matplotlib.pyplot as plt\n",
    "\n",
    "fig, ax = plt.subplots(figsize=(16, 7))\n",
    "\n",
    "xgb.plot_importance( xg, ax=ax )\n",
    "plt.show()"
   ]
  },
  {
   "cell_type": "code",
   "execution_count": 31,
   "metadata": {
    "collapsed": true
   },
   "outputs": [],
   "source": [
    "def surprise( model ):\n",
    "    \n",
    "    train = dict()\n",
    "    test = dict()\n",
    "    \n",
    "    start = datetime.now()\n",
    "\n",
    "# Evaluating train data --------------------------------------------------------\n",
    "\n",
    "    # Getting Train Predictions (list of prediction class inside Surprise)\n",
    "    trPred = model.test( trainSet.build_testset() )\n",
    "\n",
    "    # Getting Predicted ratings form Train Predictions\n",
    "    trActualR = np.array([pred.r_ui for pred in trPred])\n",
    "    trPredR = np.array([pred.est for pred in trPred])\n",
    "\n",
    "    # Calculating RMSE and MAPE\n",
    "    trrmse = np.sqrt( np.mean(( trPredR - trActualR )**2 ) )\n",
    "    trmape = np.mean( np.abs( trPredR - trActualR ) / trActualR ) * 100\n",
    "\n",
    "    train['rmse'] = trrmse\n",
    "    train['mape'] = trmape\n",
    "    train['predictions'] = trPredR\n",
    "\n",
    "    print(' Train RMSE : ', trrmse, ' MAPE : ', trmape)\n",
    "\n",
    "# Evaluating Test data ---------------------------------------------------------\n",
    "\n",
    "    # Getting Test Predictions (list of prediction class of test data )\n",
    "    tePred = model.test( testSet )\n",
    "\n",
    "    # Getting Predicted ratings form list of Predictions\n",
    "    teActualR = np.array( [ pred.r_ui for pred in tePred ])\n",
    "    tePredR = np.array( [ pred.est for pred in tePred ])\n",
    "\n",
    "    # Calculating RMSE and MAPE\n",
    "    termse = np.sqrt( np.mean(( tePredR - teActualR )**2 ) )\n",
    "    temape = np.mean( np.abs( tePredR - teActualR ) / teActualR ) * 100\n",
    "\n",
    "    test['rmse'] = termse\n",
    "    test['mape'] = temape\n",
    "    test['predictions'] = tePredR\n",
    "\n",
    "    print(' Test RMSE : ', termse, ' MAPE : ', temape)\n",
    "\n",
    "    print('\\n Time Taken : ', datetime.now() - start )\n",
    "    \n",
    "    return train, test"
   ]
  },
  {
   "cell_type": "markdown",
   "metadata": {},
   "source": [
    "### Surprise KNN\n",
    "\n",
    " __predicted Rating__ : ( ___ based on User-User similarity ___ )\n",
    "\n",
    "\\begin{align} \\hat{r}_{ui} = b_{ui} + \\frac{ \\sum\\limits_{v \\in N^k_i(u)}\n",
    "\\text{sim}(u, v) \\cdot (r_{vi} - b_{vi})} {\\sum\\limits_{v \\in\n",
    "N^k_i(u)} \\text{sim}(u, v)} \\end{align}\n",
    "\n",
    "- $\\pmb{b_{ui}}$ -  _Baseline prediction_ of (user,movie) rating\n",
    "\n",
    "- $ \\pmb {N_i^k (u)}$ - Set of __K similar__ users (neighbours) of __user (u)__ who rated __movie(i)__  \n",
    "\n",
    "- _sim (u, v)_ - __Similarity__ between users __u and v__  \n",
    "    - Generally, it will be cosine similarity or Pearson correlation coefficient. \n",
    "    - But we use __shrunk Pearson-baseline correlation coefficient__, which is based on the pearsonBaseline similarity ( we take base line predictions instead of mean rating of user/item)\n",
    "    \n",
    "   \n",
    "<b> Predicted rating ( based on Item Item similarity ) </b> :\n",
    " \\begin{align} \\hat{r}_{ui} = b_{ui} + \\frac{ \\sum\\limits_{j \\in N^k_u(i)}\\text{sim}(i, j) \\cdot (r_{uj} - b_{uj})} {\\sum\\limits_{j \\in N^k_u(j)} \\text{sim}(i, j)} \\end{align}\n",
    "\n",
    "\n",
    "Depending on the user_based field of the sim_options parameter. For the best predictions, use the pearson_baseline similarity measure.<br>\n",
    "\n",
    "<i> \n",
    "Ref - KNN BASELINE : http://surprise.readthedocs.io/en/stable/knn_inspired.html#surprise.prediction_algorithms.knns.KNNBaseline \n",
    "    \n",
    "Ref- PEARSON_BASELINE SIMILARITY : http://surprise.readthedocs.io/en/stable/similarities.html#surprise.similarities.pearson_baseline "
   ]
  },
  {
   "cell_type": "code",
   "execution_count": null,
   "metadata": {
    "collapsed": true
   },
   "outputs": [],
   "source": []
  },
  {
   "cell_type": "code",
   "execution_count": 18,
   "metadata": {},
   "outputs": [
    {
     "name": "stdout",
     "output_type": "stream",
     "text": [
      "Estimating biases using sgd...\n",
      "Computing the pearson_baseline similarity matrix...\n",
      "Done computing similarity matrix.\n",
      " Time Taken :  0:02:23.672717\n"
     ]
    }
   ],
   "source": [
    "from surprise import KNNBaseline\n",
    "\n",
    "# KNNBaseline : A basic collaborative filtering algorithm taking into account a baseline rating.\n",
    "\n",
    "start = datetime.now()\n",
    "\n",
    "sOptions = {'user_based' : True, 'name': 'pearson_baseline', 'shrinkage': 100, 'min_support': 2 } \n",
    "\n",
    "# min_support : The minimum number of common items (when 'user_based' is 'True') or ....\n",
    "# .... minimum number of common users (when 'user_based' is 'False') for the similarity not to be zero.\n",
    "\n",
    "# name : name of the similarity to use, as defined in the similarities module. Default is 'MSD'.\n",
    "\n",
    "# we keep other parameters like regularization parameter and learning_rate as default values.\n",
    "bOptions = {'method': 'sgd'} \n",
    "\n",
    "knn = KNNBaseline( k = 40, sim_options = sOptions, bsl_options = bOptions)\n",
    "\n",
    "knn.fit( trainSet )\n",
    "\n",
    "print(' Time Taken : ', datetime.now() - start )\n",
    "\n",
    "# k : The (max) number of neighbors to take into account for aggregation\n",
    "# sim_options : A dict of options for the similarity measure. It is recommended to use the pearson_baseline similarity measure.\n",
    "# bsl_options : A dictionary of options for the baseline estimates computation\n",
    "\n",
    "# Takes some time to run"
   ]
  },
  {
   "cell_type": "code",
   "execution_count": 20,
   "metadata": {},
   "outputs": [
    {
     "name": "stdout",
     "output_type": "stream",
     "text": [
      " Train RMSE :  0.4000688170413332  MAPE :  11.204348773981348\n",
      " Test RMSE :  1.0765210346857448  MAPE :  33.82366298866851\n",
      "\n",
      " Time Taken :  0:07:16.729039\n"
     ]
    }
   ],
   "source": [
    "resTrain, resTest = surprise( knn )"
   ]
  },
  {
   "cell_type": "code",
   "execution_count": 21,
   "metadata": {},
   "outputs": [
    {
     "data": {
      "text/html": [
       "<div>\n",
       "<style scoped>\n",
       "    .dataframe tbody tr th:only-of-type {\n",
       "        vertical-align: middle;\n",
       "    }\n",
       "\n",
       "    .dataframe tbody tr th {\n",
       "        vertical-align: top;\n",
       "    }\n",
       "\n",
       "    .dataframe thead th {\n",
       "        text-align: right;\n",
       "    }\n",
       "</style>\n",
       "<table border=\"1\" class=\"dataframe\">\n",
       "  <thead>\n",
       "    <tr style=\"text-align: right;\">\n",
       "      <th></th>\n",
       "      <th>user</th>\n",
       "      <th>movie</th>\n",
       "      <th>Gavg</th>\n",
       "      <th>ur1</th>\n",
       "      <th>ur2</th>\n",
       "      <th>ur3</th>\n",
       "      <th>ur4</th>\n",
       "      <th>ur5</th>\n",
       "      <th>mr1</th>\n",
       "      <th>mr2</th>\n",
       "      <th>mr3</th>\n",
       "      <th>mr4</th>\n",
       "      <th>mr5</th>\n",
       "      <th>Uavg</th>\n",
       "      <th>Mavg</th>\n",
       "      <th>rating</th>\n",
       "      <th>BaselinePred</th>\n",
       "      <th>KnnUserPred</th>\n",
       "    </tr>\n",
       "  </thead>\n",
       "  <tbody>\n",
       "    <tr>\n",
       "      <th>0</th>\n",
       "      <td>1248029</td>\n",
       "      <td>1</td>\n",
       "      <td>3.55972</td>\n",
       "      <td>3.0</td>\n",
       "      <td>3.0</td>\n",
       "      <td>3.0</td>\n",
       "      <td>3.0</td>\n",
       "      <td>3.0</td>\n",
       "      <td>4.0</td>\n",
       "      <td>3.0</td>\n",
       "      <td>4.0</td>\n",
       "      <td>5.0</td>\n",
       "      <td>3.0</td>\n",
       "      <td>3.254777</td>\n",
       "      <td>3.000000</td>\n",
       "      <td>3</td>\n",
       "      <td>3.170543</td>\n",
       "      <td>3.000000</td>\n",
       "    </tr>\n",
       "    <tr>\n",
       "      <th>1</th>\n",
       "      <td>209104</td>\n",
       "      <td>4501</td>\n",
       "      <td>3.55972</td>\n",
       "      <td>4.0</td>\n",
       "      <td>3.0</td>\n",
       "      <td>2.0</td>\n",
       "      <td>1.0</td>\n",
       "      <td>1.0</td>\n",
       "      <td>2.0</td>\n",
       "      <td>3.0</td>\n",
       "      <td>5.0</td>\n",
       "      <td>5.0</td>\n",
       "      <td>5.0</td>\n",
       "      <td>4.612903</td>\n",
       "      <td>2.904762</td>\n",
       "      <td>2</td>\n",
       "      <td>3.192834</td>\n",
       "      <td>3.060451</td>\n",
       "    </tr>\n",
       "    <tr>\n",
       "      <th>2</th>\n",
       "      <td>343411</td>\n",
       "      <td>4501</td>\n",
       "      <td>3.55972</td>\n",
       "      <td>1.0</td>\n",
       "      <td>4.0</td>\n",
       "      <td>5.0</td>\n",
       "      <td>4.0</td>\n",
       "      <td>1.0</td>\n",
       "      <td>5.0</td>\n",
       "      <td>5.0</td>\n",
       "      <td>5.0</td>\n",
       "      <td>3.0</td>\n",
       "      <td>5.0</td>\n",
       "      <td>4.625000</td>\n",
       "      <td>2.904762</td>\n",
       "      <td>5</td>\n",
       "      <td>3.629985</td>\n",
       "      <td>3.601217</td>\n",
       "    </tr>\n",
       "  </tbody>\n",
       "</table>\n",
       "</div>"
      ],
      "text/plain": [
       "      user  movie     Gavg  ur1  ur2  ur3  ur4  ur5  mr1  mr2  mr3  mr4  mr5  \\\n",
       "0  1248029      1  3.55972  3.0  3.0  3.0  3.0  3.0  4.0  3.0  4.0  5.0  3.0   \n",
       "1   209104   4501  3.55972  4.0  3.0  2.0  1.0  1.0  2.0  3.0  5.0  5.0  5.0   \n",
       "2   343411   4501  3.55972  1.0  4.0  5.0  4.0  1.0  5.0  5.0  5.0  3.0  5.0   \n",
       "\n",
       "       Uavg      Mavg  rating  BaselinePred  KnnUserPred  \n",
       "0  3.254777  3.000000       3      3.170543     3.000000  \n",
       "1  4.612903  2.904762       2      3.192834     3.060451  \n",
       "2  4.625000  2.904762       5      3.629985     3.601217  "
      ]
     },
     "execution_count": 21,
     "metadata": {},
     "output_type": "execute_result"
    }
   ],
   "source": [
    "# Adding Baseline Predicted ratoings as feature in Train data\n",
    "\n",
    "xtrain['KnnUserPred'] = resTrain['predictions']\n",
    "\n",
    "xtest['KnnUserPred'] = resTest['predictions']\n",
    "\n",
    "xtrain.head(3)"
   ]
  },
  {
   "cell_type": "code",
   "execution_count": 22,
   "metadata": {},
   "outputs": [
    {
     "name": "stdout",
     "output_type": "stream",
     "text": [
      "Estimating biases using sgd...\n",
      "Computing the pearson_baseline similarity matrix...\n",
      "Done computing similarity matrix.\n"
     ]
    },
    {
     "data": {
      "text/plain": [
       "<surprise.prediction_algorithms.knns.KNNBaseline at 0x7f4a5e320828>"
      ]
     },
     "execution_count": 22,
     "metadata": {},
     "output_type": "execute_result"
    }
   ],
   "source": [
    "sOptions = {'user_based' : False, 'name': 'pearson_baseline', 'shrinkage': 100, 'min_support': 2 } \n",
    "#'user_based' : False => this considers the similarities of movies instead of users\n",
    "\n",
    "# we keep other parameters like regularization parameter and learning_rate as default values.\n",
    "bOptions = {'method': 'sgd'} \n",
    "\n",
    "knn = KNNBaseline( k = 40, sim_options = sOptions, bsl_options = bOptions)\n",
    "\n",
    "knn.fit( trainSet )\n",
    "\n",
    "# k : The (max) number of neighbors to take into account for aggregation\n",
    "# sim_options : A dict of options for the similarity measure. It is recommended to use the pearson_baseline similarity measure.\n",
    "# bsl_options : A dictionary of options for the baseline estimates computation"
   ]
  },
  {
   "cell_type": "code",
   "execution_count": 23,
   "metadata": {},
   "outputs": [
    {
     "name": "stdout",
     "output_type": "stream",
     "text": [
      " Train RMSE :  0.4329028853879273  MAPE :  11.920310264768439\n",
      " Test RMSE :  1.076595039284624  MAPE :  33.81056129103451\n",
      "\n",
      " Time Taken :  0:00:47.485251\n"
     ]
    }
   ],
   "source": [
    "resTrain, resTest = surprise( knn )"
   ]
  },
  {
   "cell_type": "code",
   "execution_count": 24,
   "metadata": {},
   "outputs": [
    {
     "data": {
      "text/html": [
       "<div>\n",
       "<style scoped>\n",
       "    .dataframe tbody tr th:only-of-type {\n",
       "        vertical-align: middle;\n",
       "    }\n",
       "\n",
       "    .dataframe tbody tr th {\n",
       "        vertical-align: top;\n",
       "    }\n",
       "\n",
       "    .dataframe thead th {\n",
       "        text-align: right;\n",
       "    }\n",
       "</style>\n",
       "<table border=\"1\" class=\"dataframe\">\n",
       "  <thead>\n",
       "    <tr style=\"text-align: right;\">\n",
       "      <th></th>\n",
       "      <th>user</th>\n",
       "      <th>movie</th>\n",
       "      <th>Gavg</th>\n",
       "      <th>ur1</th>\n",
       "      <th>ur2</th>\n",
       "      <th>ur3</th>\n",
       "      <th>ur4</th>\n",
       "      <th>ur5</th>\n",
       "      <th>mr1</th>\n",
       "      <th>mr2</th>\n",
       "      <th>mr3</th>\n",
       "      <th>mr4</th>\n",
       "      <th>mr5</th>\n",
       "      <th>Uavg</th>\n",
       "      <th>Mavg</th>\n",
       "      <th>rating</th>\n",
       "      <th>BaselinePred</th>\n",
       "      <th>KnnUserPred</th>\n",
       "      <th>KnnMoviePred</th>\n",
       "    </tr>\n",
       "  </thead>\n",
       "  <tbody>\n",
       "    <tr>\n",
       "      <th>0</th>\n",
       "      <td>1248029</td>\n",
       "      <td>1</td>\n",
       "      <td>3.55972</td>\n",
       "      <td>3.0</td>\n",
       "      <td>3.0</td>\n",
       "      <td>3.0</td>\n",
       "      <td>3.0</td>\n",
       "      <td>3.0</td>\n",
       "      <td>4.0</td>\n",
       "      <td>3.0</td>\n",
       "      <td>4.0</td>\n",
       "      <td>5.0</td>\n",
       "      <td>3.0</td>\n",
       "      <td>3.254777</td>\n",
       "      <td>3.000000</td>\n",
       "      <td>3</td>\n",
       "      <td>3.170543</td>\n",
       "      <td>3.000000</td>\n",
       "      <td>3.000000</td>\n",
       "    </tr>\n",
       "    <tr>\n",
       "      <th>1</th>\n",
       "      <td>209104</td>\n",
       "      <td>4501</td>\n",
       "      <td>3.55972</td>\n",
       "      <td>4.0</td>\n",
       "      <td>3.0</td>\n",
       "      <td>2.0</td>\n",
       "      <td>1.0</td>\n",
       "      <td>1.0</td>\n",
       "      <td>2.0</td>\n",
       "      <td>3.0</td>\n",
       "      <td>5.0</td>\n",
       "      <td>5.0</td>\n",
       "      <td>5.0</td>\n",
       "      <td>4.612903</td>\n",
       "      <td>2.904762</td>\n",
       "      <td>2</td>\n",
       "      <td>3.192834</td>\n",
       "      <td>3.060451</td>\n",
       "      <td>3.076287</td>\n",
       "    </tr>\n",
       "    <tr>\n",
       "      <th>2</th>\n",
       "      <td>343411</td>\n",
       "      <td>4501</td>\n",
       "      <td>3.55972</td>\n",
       "      <td>1.0</td>\n",
       "      <td>4.0</td>\n",
       "      <td>5.0</td>\n",
       "      <td>4.0</td>\n",
       "      <td>1.0</td>\n",
       "      <td>5.0</td>\n",
       "      <td>5.0</td>\n",
       "      <td>5.0</td>\n",
       "      <td>3.0</td>\n",
       "      <td>5.0</td>\n",
       "      <td>4.625000</td>\n",
       "      <td>2.904762</td>\n",
       "      <td>5</td>\n",
       "      <td>3.629985</td>\n",
       "      <td>3.601217</td>\n",
       "      <td>3.787502</td>\n",
       "    </tr>\n",
       "  </tbody>\n",
       "</table>\n",
       "</div>"
      ],
      "text/plain": [
       "      user  movie     Gavg  ur1  ur2  ur3  ur4  ur5  mr1  mr2  mr3  mr4  mr5  \\\n",
       "0  1248029      1  3.55972  3.0  3.0  3.0  3.0  3.0  4.0  3.0  4.0  5.0  3.0   \n",
       "1   209104   4501  3.55972  4.0  3.0  2.0  1.0  1.0  2.0  3.0  5.0  5.0  5.0   \n",
       "2   343411   4501  3.55972  1.0  4.0  5.0  4.0  1.0  5.0  5.0  5.0  3.0  5.0   \n",
       "\n",
       "       Uavg      Mavg  rating  BaselinePred  KnnUserPred  KnnMoviePred  \n",
       "0  3.254777  3.000000       3      3.170543     3.000000      3.000000  \n",
       "1  4.612903  2.904762       2      3.192834     3.060451      3.076287  \n",
       "2  4.625000  2.904762       5      3.629985     3.601217      3.787502  "
      ]
     },
     "execution_count": 24,
     "metadata": {},
     "output_type": "execute_result"
    }
   ],
   "source": [
    "xtrain['KnnMoviePred'] = resTrain['predictions']\n",
    "\n",
    "xtest['KnnMoviePred'] = resTest['predictions']\n",
    "\n",
    "xtrain.head(3)"
   ]
  },
  {
   "cell_type": "markdown",
   "metadata": {},
   "source": [
    "### XG Boost with Surprise KNN pred. as Features"
   ]
  },
  {
   "cell_type": "code",
   "execution_count": 27,
   "metadata": {},
   "outputs": [
    {
     "name": "stderr",
     "output_type": "stream",
     "text": [
      "/usr/local/lib/python3.5/dist-packages/pandas/core/frame.py:3940: SettingWithCopyWarning: \n",
      "A value is trying to be set on a copy of a slice from a DataFrame\n",
      "\n",
      "See the caveats in the documentation: http://pandas.pydata.org/pandas-docs/stable/indexing.html#indexing-view-versus-copy\n",
      "  errors=errors)\n"
     ]
    },
    {
     "name": "stdout",
     "output_type": "stream",
     "text": [
      "(307965, 18)\n",
      "(76992, 18)\n"
     ]
    }
   ],
   "source": [
    "# Splitting Train in Train and CV for Hypeparameter Tuning\n",
    "\n",
    "xtr = xtrain.iloc[ : int( xtrain.shape[0]*0.80 ) ]\n",
    "xcv = xtrain.iloc[ int( xtrain.shape[0]*0.80 ) :  ]\n",
    "\n",
    "ytr = xtr['rating']\n",
    "ycv = xcv['rating']\n",
    "\n",
    "xtr.drop( ['rating'], axis = 1, inplace = True )\n",
    "xcv.drop( ['rating'], axis = 1, inplace = True )\n",
    "\n",
    "print( xtr.shape )\n",
    "print( xcv.shape )"
   ]
  },
  {
   "cell_type": "code",
   "execution_count": 28,
   "metadata": {
    "collapsed": true
   },
   "outputs": [],
   "source": [
    "ytrain = xtrain['rating']\n",
    "ytest = xtest['rating']\n",
    "\n",
    "Xtrain = xtrain.drop( ['rating'], axis = 1 )\n",
    "Xtest = xtest.drop( ['rating'], axis = 1 )"
   ]
  },
  {
   "cell_type": "code",
   "execution_count": 56,
   "metadata": {},
   "outputs": [
    {
     "name": "stdout",
     "output_type": "stream",
     "text": [
      "For max_depth =  3  and n_estimators =  50  RMSE Train :  0.8655590392826505  and RMSE CV :  0.8615866037155404\n",
      "For max_depth =  3  and n_estimators =  100  RMSE Train :  0.8605362496463816  and RMSE CV :  0.8577863775192418\n",
      "For max_depth =  3  and n_estimators =  200  RMSE Train :  0.8582693165621949  and RMSE CV :  0.8579829630343163\n",
      "For max_depth =  3  and n_estimators =  400  RMSE Train :  0.8556383136172531  and RMSE CV :  0.8641370667325444\n",
      "For max_depth =  3  and n_estimators =  600  RMSE Train :  0.8533894677379137  and RMSE CV :  0.8663480868683655\n",
      "For max_depth =  3  and n_estimators =  600  RMSE Train :  0.8533894677379137  and RMSE CV :  0.8663480868683655\n",
      "For max_depth =  6  and n_estimators =  50  RMSE Train :  0.8529061298148222  and RMSE CV :  0.8565398235059913\n",
      "For max_depth =  6  and n_estimators =  100  RMSE Train :  0.8463129331077253  and RMSE CV :  0.8579161925281162\n",
      "For max_depth =  6  and n_estimators =  200  RMSE Train :  0.8375999420160181  and RMSE CV :  0.8680059268901062\n",
      "For max_depth =  6  and n_estimators =  400  RMSE Train :  0.8225290987483268  and RMSE CV :  0.874539299306843\n",
      "For max_depth =  6  and n_estimators =  600  RMSE Train :  0.8101145320590648  and RMSE CV :  0.8832900563895837\n",
      "For max_depth =  11  and n_estimators =  50  RMSE Train :  0.7603735234441317  and RMSE CV :  0.8672367390376362\n",
      "For max_depth =  11  and n_estimators =  100  RMSE Train :  0.7306058371965874  and RMSE CV :  0.8765224704495594\n"
     ]
    }
   ],
   "source": [
    "xg( xtr, ytr, xcv, ycv )"
   ]
  },
  {
   "cell_type": "code",
   "execution_count": 32,
   "metadata": {},
   "outputs": [
    {
     "name": "stdout",
     "output_type": "stream",
     "text": [
      " Train RMSE :  0.8597361720200826  MAPE :  25.903243112822093\n",
      " Test RMSE :  1.0984120479548696  MAPE :  33.51931264259599\n"
     ]
    }
   ],
   "source": [
    "D = 3\n",
    "N = 100\n",
    "\n",
    "xg = xgb.XGBRegressor( max_depth = D, n_estimators = N, objective = 'reg:squarederror', nthread=4 )\n",
    "xg.fit( Xtrain, ytrain )\n",
    "\n",
    "ytrpred = xg.predict(Xtrain)\n",
    "ytepred = xg.predict(Xtest)\n",
    "\n",
    "rmsetr, mapetr = MSE( ytrain, ytrpred )\n",
    "rmsete, mapete = MSE( ytest, ytepred )\n",
    "print(' Train RMSE : ',rmsetr , ' MAPE : ',mapetr  )\n",
    "print(' Test RMSE : ',rmsete , ' MAPE : ',mapete  )"
   ]
  },
  {
   "cell_type": "code",
   "execution_count": 34,
   "metadata": {},
   "outputs": [
    {
     "data": {
      "image/png": "[encoded data removed]",
      "text/plain": [
       "<Figure size 1152x504 with 1 Axes>"
      ]
     },
     "metadata": {
      "needs_background": "light"
     },
     "output_type": "display_data"
    }
   ],
   "source": [
    "import matplotlib.pyplot as plt\n",
    "\n",
    "fig, ax = plt.subplots(figsize=(16, 7))\n",
    "\n",
    "xgb.plot_importance( xg, ax=ax )\n",
    "plt.show()"
   ]
  },
  {
   "cell_type": "code",
   "execution_count": null,
   "metadata": {
    "collapsed": true
   },
   "outputs": [],
   "source": []
  },
  {
   "cell_type": "markdown",
   "metadata": {},
   "source": [
    "### Surprise SVD\n",
    "\n",
    "<b>Predicted Rating : </b>\n",
    "- $ \\large  \\hat r_{ui} = \\mu + b_u + b_i + q_i^Tp_u $\n",
    "\n",
    "    - $\\pmb q_i$ - Representation of item(movie) in latent factor space\n",
    "\n",
    "    - $\\pmb p_u$ - Representation of user in new latent factor space\n",
    "    \n",
    "If user u is unknown, then the bias bu and the factors pu are assumed to be zero. The same applies for item i with bi and qi.\n",
    "<br>\n",
    "        \n",
    "<b>Optimization problem with user item interactions and regularization (to avoid overfitting) : </b> \n",
    "- $\\large \\sum_{r_{ui} \\in R_{train}} \\left(r_{ui} - \\hat{r}_{ui} \\right)^2 +\n",
    "\\lambda\\left(b_i^2 + b_u^2 + ||q_i||^2 + ||p_u||^2\\right) $\n",
    "\n",
    "<br>\n",
    "\n",
    "<i> Ref : http://surprise.readthedocs.io/en/stable/matrix_factorization.html#surprise.prediction_algorithms.matrix_factorization.SVD"
   ]
  },
  {
   "cell_type": "code",
   "execution_count": 27,
   "metadata": {},
   "outputs": [
    {
     "name": "stdout",
     "output_type": "stream",
     "text": [
      " Time Taken :  0:00:22.848634\n"
     ]
    }
   ],
   "source": [
    "from surprise import SVD\n",
    "\n",
    "\n",
    "svd = SVD( n_factors=100, biased=True, random_state=15 )\n",
    "svd.fit( trainSet)\n",
    "\n",
    "print(' Time Taken : ', datetime.now() - start )\n",
    "\n",
    "# biased (bool) : Whether to use baselines (or biases). Default is True.\n",
    "# n_factors : The number of factors. Default is 100."
   ]
  },
  {
   "cell_type": "code",
   "execution_count": 32,
   "metadata": {},
   "outputs": [
    {
     "name": "stdout",
     "output_type": "stream",
     "text": [
      " Train RMSE :  0.6632126681223717  MAPE :  19.986400252223216\n",
      " Test RMSE :  1.0762971216639818  MAPE :  33.82486197008395\n",
      "\n",
      " Time Taken :  0:00:04.140590\n",
      " Time Taken :  0:00:04.238810\n"
     ]
    }
   ],
   "source": [
    "start = datetime.now()\n",
    "\n",
    "svdResTr, svdResTe = surprise( svd )\n",
    "\n",
    "print(' Time Taken : ', datetime.now() - start )"
   ]
  },
  {
   "cell_type": "code",
   "execution_count": null,
   "metadata": {
    "collapsed": true
   },
   "outputs": [],
   "source": []
  },
  {
   "cell_type": "code",
   "execution_count": 41,
   "metadata": {},
   "outputs": [
    {
     "data": {
      "text/html": [
       "<div>\n",
       "<style scoped>\n",
       "    .dataframe tbody tr th:only-of-type {\n",
       "        vertical-align: middle;\n",
       "    }\n",
       "\n",
       "    .dataframe tbody tr th {\n",
       "        vertical-align: top;\n",
       "    }\n",
       "\n",
       "    .dataframe thead th {\n",
       "        text-align: right;\n",
       "    }\n",
       "</style>\n",
       "<table border=\"1\" class=\"dataframe\">\n",
       "  <thead>\n",
       "    <tr style=\"text-align: right;\">\n",
       "      <th></th>\n",
       "      <th>user</th>\n",
       "      <th>movie</th>\n",
       "      <th>Gavg</th>\n",
       "      <th>ur1</th>\n",
       "      <th>ur2</th>\n",
       "      <th>ur3</th>\n",
       "      <th>ur4</th>\n",
       "      <th>ur5</th>\n",
       "      <th>mr1</th>\n",
       "      <th>mr2</th>\n",
       "      <th>mr3</th>\n",
       "      <th>mr4</th>\n",
       "      <th>mr5</th>\n",
       "      <th>Uavg</th>\n",
       "      <th>Mavg</th>\n",
       "      <th>rating</th>\n",
       "      <th>BaselinePred</th>\n",
       "      <th>KnnUserPred</th>\n",
       "      <th>KnnMoviePred</th>\n",
       "      <th>svdPred</th>\n",
       "    </tr>\n",
       "  </thead>\n",
       "  <tbody>\n",
       "    <tr>\n",
       "      <th>0</th>\n",
       "      <td>1248029</td>\n",
       "      <td>1</td>\n",
       "      <td>3.55972</td>\n",
       "      <td>3.0</td>\n",
       "      <td>3.0</td>\n",
       "      <td>3.0</td>\n",
       "      <td>3.0</td>\n",
       "      <td>3.0</td>\n",
       "      <td>4.0</td>\n",
       "      <td>3.0</td>\n",
       "      <td>4.0</td>\n",
       "      <td>5.0</td>\n",
       "      <td>3.0</td>\n",
       "      <td>3.254777</td>\n",
       "      <td>3.000000</td>\n",
       "      <td>3</td>\n",
       "      <td>3.170543</td>\n",
       "      <td>3.000000</td>\n",
       "      <td>3.000000</td>\n",
       "      <td>3.124346</td>\n",
       "    </tr>\n",
       "    <tr>\n",
       "      <th>1</th>\n",
       "      <td>209104</td>\n",
       "      <td>4501</td>\n",
       "      <td>3.55972</td>\n",
       "      <td>4.0</td>\n",
       "      <td>3.0</td>\n",
       "      <td>2.0</td>\n",
       "      <td>1.0</td>\n",
       "      <td>1.0</td>\n",
       "      <td>2.0</td>\n",
       "      <td>3.0</td>\n",
       "      <td>5.0</td>\n",
       "      <td>5.0</td>\n",
       "      <td>5.0</td>\n",
       "      <td>4.612903</td>\n",
       "      <td>2.904762</td>\n",
       "      <td>2</td>\n",
       "      <td>3.192834</td>\n",
       "      <td>3.060451</td>\n",
       "      <td>3.076287</td>\n",
       "      <td>3.075074</td>\n",
       "    </tr>\n",
       "    <tr>\n",
       "      <th>2</th>\n",
       "      <td>343411</td>\n",
       "      <td>4501</td>\n",
       "      <td>3.55972</td>\n",
       "      <td>1.0</td>\n",
       "      <td>4.0</td>\n",
       "      <td>5.0</td>\n",
       "      <td>4.0</td>\n",
       "      <td>1.0</td>\n",
       "      <td>5.0</td>\n",
       "      <td>5.0</td>\n",
       "      <td>5.0</td>\n",
       "      <td>3.0</td>\n",
       "      <td>5.0</td>\n",
       "      <td>4.625000</td>\n",
       "      <td>2.904762</td>\n",
       "      <td>5</td>\n",
       "      <td>3.629985</td>\n",
       "      <td>3.601217</td>\n",
       "      <td>3.787502</td>\n",
       "      <td>4.115281</td>\n",
       "    </tr>\n",
       "  </tbody>\n",
       "</table>\n",
       "</div>"
      ],
      "text/plain": [
       "      user  movie     Gavg  ur1  ur2  ur3  ur4  ur5  mr1  mr2  mr3  mr4  mr5  \\\n",
       "0  1248029      1  3.55972  3.0  3.0  3.0  3.0  3.0  4.0  3.0  4.0  5.0  3.0   \n",
       "1   209104   4501  3.55972  4.0  3.0  2.0  1.0  1.0  2.0  3.0  5.0  5.0  5.0   \n",
       "2   343411   4501  3.55972  1.0  4.0  5.0  4.0  1.0  5.0  5.0  5.0  3.0  5.0   \n",
       "\n",
       "       Uavg      Mavg  rating  BaselinePred  KnnUserPred  KnnMoviePred  \\\n",
       "0  3.254777  3.000000       3      3.170543     3.000000      3.000000   \n",
       "1  4.612903  2.904762       2      3.192834     3.060451      3.076287   \n",
       "2  4.625000  2.904762       5      3.629985     3.601217      3.787502   \n",
       "\n",
       "    svdPred  \n",
       "0  3.124346  \n",
       "1  3.075074  \n",
       "2  4.115281  "
      ]
     },
     "execution_count": 41,
     "metadata": {},
     "output_type": "execute_result"
    }
   ],
   "source": [
    "xtrain['svdPred'] = svdResTr['predictions']\n",
    "\n",
    "xtest['svdPred'] = svdResTe['predictions']\n",
    "\n",
    "xtrain.head(3)"
   ]
  },
  {
   "cell_type": "code",
   "execution_count": 42,
   "metadata": {},
   "outputs": [
    {
     "name": "stdout",
     "output_type": "stream",
     "text": [
      "(307965, 19)\n",
      "(76992, 19)\n"
     ]
    }
   ],
   "source": [
    "# Splitting Train in Train and CV for Hypeparameter Tuning\n",
    "\n",
    "xtr = xtrain.iloc[ : int( xtrain.shape[0]*0.80 ) ]\n",
    "xcv = xtrain.iloc[ int( xtrain.shape[0]*0.80 ) :  ]\n",
    "\n",
    "ytr = xtr['rating']\n",
    "ycv = xcv['rating']\n",
    "\n",
    "xtr.drop( ['rating'], axis = 1, inplace = True )\n",
    "xcv.drop( ['rating'], axis = 1, inplace = True )\n",
    "\n",
    "print( xtr.shape )\n",
    "print( xcv.shape )"
   ]
  },
  {
   "cell_type": "code",
   "execution_count": 43,
   "metadata": {
    "collapsed": true
   },
   "outputs": [],
   "source": [
    "ytrain = xtrain['rating']\n",
    "ytest = xtest['rating']\n",
    "\n",
    "Xtrain = xtrain.drop( ['rating'], axis = 1 )\n",
    "Xtest = xtest.drop( ['rating'], axis = 1 )"
   ]
  },
  {
   "cell_type": "code",
   "execution_count": 36,
   "metadata": {},
   "outputs": [
    {
     "name": "stderr",
     "output_type": "stream",
     "text": [
      "/home/harsh_dhaundiyal/.local/lib/python3.5/site-packages/xgboost/core.py:587: FutureWarning: Series.base is deprecated and will be removed in a future version\n",
      "  if getattr(data, 'base', None) is not None and \\\n",
      "/home/harsh_dhaundiyal/.local/lib/python3.5/site-packages/xgboost/core.py:588: FutureWarning: Series.base is deprecated and will be removed in a future version\n",
      "  data.base is not None and isinstance(data, np.ndarray) \\\n"
     ]
    },
    {
     "name": "stdout",
     "output_type": "stream",
     "text": [
      "For max_depth =  3  and n_estimators =  50  RMSE Train :  0.8655590392826505  and RMSE CV :  0.8615866037155404\n",
      "For max_depth =  3  and n_estimators =  100  RMSE Train :  0.8605354605154261  and RMSE CV :  0.85778736161409\n",
      "For max_depth =  3  and n_estimators =  200  RMSE Train :  0.8582420890285878  and RMSE CV :  0.8576889349226963\n",
      "For max_depth =  3  and n_estimators =  400  RMSE Train :  0.8554786039465487  and RMSE CV :  0.8629677891974711\n",
      "For max_depth =  3  and n_estimators =  600  RMSE Train :  0.8532028709943469  and RMSE CV :  0.8647938709370622\n",
      "For max_depth =  6  and n_estimators =  50  RMSE Train :  0.8530493429852105  and RMSE CV :  0.8568691952702846\n",
      "For max_depth =  6  and n_estimators =  100  RMSE Train :  0.8460255003663014  and RMSE CV :  0.858655018536406\n",
      "For max_depth =  6  and n_estimators =  200  RMSE Train :  0.8380827471864871  and RMSE CV :  0.8690356441030012\n",
      "For max_depth =  6  and n_estimators =  400  RMSE Train :  0.8236614227641917  and RMSE CV :  0.8762435769232111\n",
      "For max_depth =  6  and n_estimators =  600  RMSE Train :  0.8108336492729342  and RMSE CV :  0.8784935310585763\n",
      "For max_depth =  11  and n_estimators =  50  RMSE Train :  0.7584789096588072  and RMSE CV :  0.8667930187618466\n",
      "For max_depth =  11  and n_estimators =  100  RMSE Train :  0.7275333667792977  and RMSE CV :  0.8721857674191618\n",
      "For max_depth =  11  and n_estimators =  200  RMSE Train :  0.6848068320209194  and RMSE CV :  0.8793682002172418\n",
      "For max_depth =  11  and n_estimators =  400  RMSE Train :  0.6194959856250216  and RMSE CV :  0.8850037233501222\n",
      "For max_depth =  11  and n_estimators =  600  RMSE Train :  0.5549999977391342  and RMSE CV :  0.8885021349378166\n"
     ]
    }
   ],
   "source": [
    "xg( xtr, ytr, xcv, ycv )"
   ]
  },
  {
   "cell_type": "code",
   "execution_count": 48,
   "metadata": {},
   "outputs": [
    {
     "name": "stdout",
     "output_type": "stream",
     "text": [
      " Train RMSE :  0.8597354394738574  MAPE :  25.90321694178337\n",
      " Test RMSE :  1.098412070096075  MAPE :  33.51931322452183\n"
     ]
    }
   ],
   "source": [
    "D = 3\n",
    "N = 100\n",
    "\n",
    "xg = xgb.XGBRegressor( max_depth = D, n_estimators = N, objective = 'reg:squarederror', nthread=4 )\n",
    "xg.fit( Xtrain, ytrain )\n",
    "\n",
    "ytrpred = xg.predict(Xtrain)\n",
    "ytepred = xg.predict(Xtest)\n",
    "\n",
    "rmsetr, mapetr = MSE( ytrain, ytrpred )\n",
    "rmsete, mapete = MSE( ytest, ytepred )\n",
    "print(' Train RMSE : ',rmsetr , ' MAPE : ',mapetr  )\n",
    "print(' Test RMSE : ',rmsete , ' MAPE : ',mapete  )"
   ]
  },
  {
   "cell_type": "code",
   "execution_count": 47,
   "metadata": {},
   "outputs": [
    {
     "data": {
      "image/png": "[encoded data removed]",
      "text/plain": [
       "<Figure size 1152x504 with 1 Axes>"
      ]
     },
     "metadata": {
      "needs_background": "light"
     },
     "output_type": "display_data"
    }
   ],
   "source": [
    "import matplotlib.pyplot as plt\n",
    "\n",
    "fig, ax = plt.subplots(figsize=(16, 7))\n",
    "\n",
    "xgb.plot_importance( xg, ax=ax )\n",
    "plt.show()"
   ]
  },
  {
   "cell_type": "markdown",
   "metadata": {},
   "source": [
    "### XG Boost with only Predicted values from Surprise"
   ]
  },
  {
   "cell_type": "code",
   "execution_count": 50,
   "metadata": {},
   "outputs": [
    {
     "data": {
      "text/html": [
       "<div>\n",
       "<style scoped>\n",
       "    .dataframe tbody tr th:only-of-type {\n",
       "        vertical-align: middle;\n",
       "    }\n",
       "\n",
       "    .dataframe tbody tr th {\n",
       "        vertical-align: top;\n",
       "    }\n",
       "\n",
       "    .dataframe thead th {\n",
       "        text-align: right;\n",
       "    }\n",
       "</style>\n",
       "<table border=\"1\" class=\"dataframe\">\n",
       "  <thead>\n",
       "    <tr style=\"text-align: right;\">\n",
       "      <th></th>\n",
       "      <th>BaselinePred</th>\n",
       "      <th>KnnUserPred</th>\n",
       "      <th>KnnMoviePred</th>\n",
       "      <th>svdPred</th>\n",
       "    </tr>\n",
       "  </thead>\n",
       "  <tbody>\n",
       "    <tr>\n",
       "      <th>0</th>\n",
       "      <td>3.170543</td>\n",
       "      <td>3.000000</td>\n",
       "      <td>3.000000</td>\n",
       "      <td>3.124346</td>\n",
       "    </tr>\n",
       "    <tr>\n",
       "      <th>1</th>\n",
       "      <td>3.192834</td>\n",
       "      <td>3.060451</td>\n",
       "      <td>3.076287</td>\n",
       "      <td>3.075074</td>\n",
       "    </tr>\n",
       "    <tr>\n",
       "      <th>2</th>\n",
       "      <td>3.629985</td>\n",
       "      <td>3.601217</td>\n",
       "      <td>3.787502</td>\n",
       "      <td>4.115281</td>\n",
       "    </tr>\n",
       "  </tbody>\n",
       "</table>\n",
       "</div>"
      ],
      "text/plain": [
       "   BaselinePred  KnnUserPred  KnnMoviePred   svdPred\n",
       "0      3.170543     3.000000      3.000000  3.124346\n",
       "1      3.192834     3.060451      3.076287  3.075074\n",
       "2      3.629985     3.601217      3.787502  4.115281"
      ]
     },
     "execution_count": 50,
     "metadata": {},
     "output_type": "execute_result"
    }
   ],
   "source": [
    "Xtrain = xtrain.drop(['user', 'movie', 'Gavg', 'ur1', 'ur2', 'ur3', 'ur4', 'ur5', 'mr1',\n",
    "       'mr2', 'mr3', 'mr4', 'mr5', 'Uavg', 'Mavg', 'rating'], axis =1)\n",
    "\n",
    "Xtest = xtest.drop(['user', 'movie', 'Gavg', 'ur1', 'ur2', 'ur3', 'ur4', 'ur5', 'mr1',\n",
    "       'mr2', 'mr3', 'mr4', 'mr5', 'Uavg', 'Mavg', 'rating'], axis =1)\n",
    "\n",
    "Xtrain.head(3)"
   ]
  },
  {
   "cell_type": "code",
   "execution_count": 54,
   "metadata": {},
   "outputs": [
    {
     "name": "stdout",
     "output_type": "stream",
     "text": [
      " Train RMSE :  1.0819022859533223  MAPE :  35.88347427161073\n",
      " Test RMSE :  1.111868111502914  MAPE :  35.49356622541468\n"
     ]
    }
   ],
   "source": [
    "D = 3\n",
    "N = 100\n",
    "\n",
    "xg = xgb.XGBRegressor( max_depth = D, n_estimators = N, objective = 'reg:squarederror', nthread=4 )\n",
    "xg.fit( Xtrain, ytrain )\n",
    "\n",
    "ytrpred = xg.predict(Xtrain)\n",
    "ytepred = xg.predict(Xtest)\n",
    "\n",
    "rmsetr, mapetr = MSE( ytrain, ytrpred )\n",
    "rmsete, mapete = MSE( ytest, ytepred )\n",
    "print(' Train RMSE : ',rmsetr , ' MAPE : ',mapetr  )\n",
    "print(' Test RMSE : ',rmsete , ' MAPE : ',mapete  )"
   ]
  },
  {
   "cell_type": "code",
   "execution_count": 55,
   "metadata": {},
   "outputs": [
    {
     "data": {
      "image/png": "[encoded data removed]",
      "text/plain": [
       "<Figure size 1152x504 with 1 Axes>"
      ]
     },
     "metadata": {
      "needs_background": "light"
     },
     "output_type": "display_data"
    }
   ],
   "source": [
    "import matplotlib.pyplot as plt\n",
    "\n",
    "fig, ax = plt.subplots(figsize=(16, 7))\n",
    "\n",
    "xgb.plot_importance( xg, ax=ax )\n",
    "plt.show()"
   ]
  },
  {
   "cell_type": "code",
   "execution_count": null,
   "metadata": {
    "collapsed": true
   },
   "outputs": [],
   "source": []
  },
  {
   "cell_type": "code",
   "execution_count": 23,
   "metadata": {},
   "outputs": [
    {
     "name": "stdout",
     "output_type": "stream",
     "text": [
      "+--------------------------------------------+-------------+-------------+-------------+\n",
      "|                   Model                    |  Test RMSE  |  Test MAPE  |  Train RMSE |\n",
      "+--------------------------------------------+-------------+-------------+-------------+\n",
      "|       XGBoost with initial features        |    1.0984   |   33.5208   |    0.8597   |\n",
      "|                                            |             |             |             |\n",
      "|             Surprise Baseline              |    1.0773   |   34.0860   |    0.9273   |\n",
      "|    XGBoost with Baseline pred. feature     |    1.0984   |   33.5193   |    0.8597   |\n",
      "|                                            |             |             |             |\n",
      "|           Surprise Baseline KNN            |    1.0765   |   33.8105   |    0.4329   |\n",
      "|  XGBoost with Baseline KNN pred. feature   |    1.0984   |   33.5193   |    0.8597   |\n",
      "|                                            |             |             |             |\n",
      "|                Surprise SVD                |    1.0762   |   33.8248   |    0.6632   |\n",
      "|       XGBoost with SVD pred. feature       |    1.0984   |   33.5193   |    0.8597   |\n",
      "|                                            |             |             |             |\n",
      "|  XGBoost with only Surprise pred. feature  |    1.1118   |   35.4935   |    1.0819   |\n",
      "+--------------------------------------------+-------------+-------------+-------------+\n"
     ]
    }
   ],
   "source": [
    "from prettytable import PrettyTable\n",
    "    \n",
    "x = PrettyTable()\n",
    "\n",
    "\n",
    "x.field_names = [\" Model \", \" Test RMSE \", \" Test MAPE \", \" Train RMSE\"]\n",
    "\n",
    "x.add_row( [ \" XGBoost with initial features \", \" 1.0984 \", \" 33.5208 \", \" 0.8597 \" ] ) \n",
    "x.add_row([\"\",\"\",\"\",\"\"])\n",
    "x.add_row( [ \" Surprise Baseline \", \" 1.0773 \", \" 34.0860 \", \" 0.9273 \" ] )\n",
    "x.add_row( [ \" XGBoost with Baseline pred. feature \", \" 1.0984 \", \" 33.5193 \", \" 0.8597 \" ] ) \n",
    "x.add_row([\"\",\"\",\"\", \"\"])\n",
    "x.add_row( [ \" Surprise Baseline KNN \", \" 1.0765 \", \" 33.8105 \", \" 0.4329 \" ] )\n",
    "x.add_row( [ \" XGBoost with Baseline KNN pred. feature \", \" 1.0984 \", \" 33.5193 \", \" 0.8597 \" ] ) \n",
    "x.add_row([\"\",\"\",\"\", \"\"])\n",
    "x.add_row( [ \" Surprise SVD \", \" 1.0762 \", \" 33.8248 \", \" 0.6632 \" ] ) \n",
    "x.add_row( [ \" XGBoost with SVD pred. feature \", \" 1.0984 \", \" 33.5193 \", \" 0.8597 \" ] ) \n",
    "x.add_row([\"\",\"\",\"\", \"\"])\n",
    "x.add_row( [ \" XGBoost with only Surprise pred. feature \", \" 1.1118 \", \" 35.4935 \", \" 1.0819 \" ] ) \n",
    "\n",
    "print( x )\n",
    "\n",
    "# Ref : http://zetcode.com/python/prettytable/"
   ]
  },
  {
   "cell_type": "markdown",
   "metadata": {},
   "source": [
    "Out of all models Surprise SVD has the lowest Test RMSE and 2nd lowest Train RMSE\n",
    "\n",
    "Surprise Models have a better performance than XG Boost models"
   ]
  }
 ],
 "metadata": {
  "kernelspec": {
   "display_name": "Python 3",
   "language": "python",
   "name": "python3"
  },
  "language_info": {
   "codemirror_mode": {
    "name": "ipython",
    "version": 3
   },
   "file_extension": ".py",
   "mimetype": "text/x-python",
   "name": "python",
   "nbconvert_exporter": "python",
   "pygments_lexer": "ipython3",
   "version": "3.6.8"
  }
 },
 "nbformat": 4,
 "nbformat_minor": 2
}
